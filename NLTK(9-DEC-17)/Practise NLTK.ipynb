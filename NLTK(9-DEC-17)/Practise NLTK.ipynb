{
 "cells": [
  {
   "cell_type": "code",
   "execution_count": 1,
   "metadata": {
    "collapsed": true
   },
   "outputs": [],
   "source": [
    "import nltk"
   ]
  },
  {
   "cell_type": "code",
   "execution_count": 2,
   "metadata": {
    "collapsed": true
   },
   "outputs": [],
   "source": [
    "# nltk.download_gui()"
   ]
  },
  {
   "cell_type": "code",
   "execution_count": 3,
   "metadata": {},
   "outputs": [
    {
     "name": "stdout",
     "output_type": "stream",
     "text": [
      "*** Introductory Examples for the NLTK Book ***\n",
      "Loading text1, ..., text9 and sent1, ..., sent9\n",
      "Type the name of the text or sentence to view it.\n",
      "Type: 'texts()' or 'sents()' to list the materials.\n",
      "text1: Moby Dick by Herman Melville 1851\n",
      "text2: Sense and Sensibility by Jane Austen 1811\n",
      "text3: The Book of Genesis\n",
      "text4: Inaugural Address Corpus\n",
      "text5: Chat Corpus\n",
      "text6: Monty Python and the Holy Grail\n",
      "text7: Wall Street Journal\n",
      "text8: Personals Corpus\n",
      "text9: The Man Who Was Thursday by G . K . Chesterton 1908\n"
     ]
    }
   ],
   "source": [
    "from nltk.book import *"
   ]
  },
  {
   "cell_type": "code",
   "execution_count": 4,
   "metadata": {
    "collapsed": true
   },
   "outputs": [],
   "source": [
    "worldlist= [w for w in text1]"
   ]
  },
  {
   "cell_type": "code",
   "execution_count": null,
   "metadata": {
    "collapsed": true
   },
   "outputs": [],
   "source": []
  },
  {
   "cell_type": "code",
   "execution_count": 5,
   "metadata": {
    "collapsed": true
   },
   "outputs": [],
   "source": [
    "f=open('./abdul.txt','r')"
   ]
  },
  {
   "cell_type": "code",
   "execution_count": 6,
   "metadata": {
    "collapsed": true
   },
   "outputs": [],
   "source": [
    "wordlist=[w.strip() for w in f.readlines()]"
   ]
  },
  {
   "cell_type": "code",
   "execution_count": 7,
   "metadata": {
    "collapsed": true
   },
   "outputs": [],
   "source": [
    "raw=''.join(wordlist)"
   ]
  },
  {
   "cell_type": "code",
   "execution_count": 8,
   "metadata": {},
   "outputs": [
    {
     "name": "stdout",
     "output_type": "stream",
     "text": [
      "APJ Abdul Kalam (15 October 1931 - 27 July 2015), was the 11th President of India from 2002 to 2007. A career scientist turned statesman, Kalam was born and raised in Rameswaram, Tamil Nadu,and studied physics and aerospace engineering. He spent the next four decades as a scientist and science administrator, mainly at the Defence Research and Development Organisation (DRDO) and Indian Space Research Organisation (ISRO) and was intimately involved in India's civilian space programme and military missile development efforts. He thus came to be known as the Missile Man of India for his work on the development of ballistic missile and launch vehicle technology. He also played a pivotal organisational, technical, and political role in India's Pokhran-II nuclear tests in 1998,the first since the original nuclear test by India in 1974.\n"
     ]
    }
   ],
   "source": [
    "print(raw)"
   ]
  },
  {
   "cell_type": "code",
   "execution_count": 9,
   "metadata": {},
   "outputs": [
    {
     "data": {
      "text/plain": [
       "['APJ',\n",
       " 'Abdul',\n",
       " 'Kalam',\n",
       " '(',\n",
       " '15',\n",
       " 'October',\n",
       " '1931',\n",
       " '-',\n",
       " '27',\n",
       " 'July',\n",
       " '2015',\n",
       " ')',\n",
       " ',',\n",
       " 'was',\n",
       " 'the',\n",
       " '11th',\n",
       " 'President',\n",
       " 'of',\n",
       " 'India',\n",
       " 'from']"
      ]
     },
     "execution_count": 9,
     "metadata": {},
     "output_type": "execute_result"
    }
   ],
   "source": [
    "tokens=nltk.word_tokenize(raw.strip())\n",
    "tokens[:20]"
   ]
  },
  {
   "cell_type": "code",
   "execution_count": 10,
   "metadata": {
    "collapsed": true
   },
   "outputs": [],
   "source": [
    "mytext=nltk.Text(tokens)"
   ]
  },
  {
   "cell_type": "code",
   "execution_count": 11,
   "metadata": {},
   "outputs": [
    {
     "data": {
      "text/plain": [
       "<Text: APJ Abdul Kalam ( 15 October 1931 -...>"
      ]
     },
     "execution_count": 11,
     "metadata": {},
     "output_type": "execute_result"
    }
   ],
   "source": [
    "mytext"
   ]
  },
  {
   "cell_type": "code",
   "execution_count": 12,
   "metadata": {},
   "outputs": [
    {
     "name": "stdout",
     "output_type": "stream",
     "text": [
      "No matches\n"
     ]
    }
   ],
   "source": [
    "mytext.similar(\"army\")"
   ]
  },
  {
   "cell_type": "code",
   "execution_count": null,
   "metadata": {
    "collapsed": true
   },
   "outputs": [],
   "source": []
  },
  {
   "cell_type": "code",
   "execution_count": null,
   "metadata": {
    "collapsed": true
   },
   "outputs": [],
   "source": []
  },
  {
   "cell_type": "code",
   "execution_count": 13,
   "metadata": {},
   "outputs": [
    {
     "data": {
      "text/plain": [
       "FreqDist({\"'s\": 2,\n",
       "          '(': 3,\n",
       "          ')': 3,\n",
       "          ',': 8,\n",
       "          '-': 1,\n",
       "          '.': 5,\n",
       "          '11th': 1,\n",
       "          '15': 1,\n",
       "          '1931': 1,\n",
       "          '1974': 1,\n",
       "          '1998': 1,\n",
       "          '2002': 1,\n",
       "          '2007': 1,\n",
       "          '2015': 1,\n",
       "          '27': 1,\n",
       "          'A': 1,\n",
       "          'APJ': 1,\n",
       "          'Abdul': 1,\n",
       "          'DRDO': 1,\n",
       "          'Defence': 1,\n",
       "          'Development': 1,\n",
       "          'He': 3,\n",
       "          'ISRO': 1,\n",
       "          'India': 5,\n",
       "          'Indian': 1,\n",
       "          'July': 1,\n",
       "          'Kalam': 2,\n",
       "          'Man': 1,\n",
       "          'Missile': 1,\n",
       "          'Nadu': 1,\n",
       "          'October': 1,\n",
       "          'Organisation': 2,\n",
       "          'Pokhran-II': 1,\n",
       "          'President': 1,\n",
       "          'Rameswaram': 1,\n",
       "          'Research': 2,\n",
       "          'Space': 1,\n",
       "          'Tamil': 1,\n",
       "          'a': 2,\n",
       "          'administrator': 1,\n",
       "          'aerospace': 1,\n",
       "          'also': 1,\n",
       "          'and': 10,\n",
       "          'as': 2,\n",
       "          'at': 1,\n",
       "          'ballistic': 1,\n",
       "          'be': 1,\n",
       "          'born': 1,\n",
       "          'by': 1,\n",
       "          'came': 1,\n",
       "          'career': 1,\n",
       "          'civilian': 1,\n",
       "          'decades': 1,\n",
       "          'development': 2,\n",
       "          'efforts': 1,\n",
       "          'engineering': 1,\n",
       "          'first': 1,\n",
       "          'for': 1,\n",
       "          'four': 1,\n",
       "          'from': 1,\n",
       "          'his': 1,\n",
       "          'in': 5,\n",
       "          'intimately': 1,\n",
       "          'involved': 1,\n",
       "          'known': 1,\n",
       "          'launch': 1,\n",
       "          'mainly': 1,\n",
       "          'military': 1,\n",
       "          'missile': 2,\n",
       "          'next': 1,\n",
       "          'nuclear': 2,\n",
       "          'of': 3,\n",
       "          'on': 1,\n",
       "          'organisational': 1,\n",
       "          'original': 1,\n",
       "          'physics': 1,\n",
       "          'pivotal': 1,\n",
       "          'played': 1,\n",
       "          'political': 1,\n",
       "          'programme': 1,\n",
       "          'raised': 1,\n",
       "          'role': 1,\n",
       "          'science': 1,\n",
       "          'scientist': 2,\n",
       "          'since': 1,\n",
       "          'space': 1,\n",
       "          'spent': 1,\n",
       "          'statesman': 1,\n",
       "          'studied': 1,\n",
       "          'technical': 1,\n",
       "          'technology': 1,\n",
       "          'test': 1,\n",
       "          'tests': 1,\n",
       "          'the': 7,\n",
       "          'thus': 1,\n",
       "          'to': 2,\n",
       "          'turned': 1,\n",
       "          'vehicle': 1,\n",
       "          'was': 3,\n",
       "          'work': 1})"
      ]
     },
     "execution_count": 13,
     "metadata": {},
     "output_type": "execute_result"
    }
   ],
   "source": [
    "mytext.vocab()"
   ]
  },
  {
   "cell_type": "code",
   "execution_count": 14,
   "metadata": {},
   "outputs": [
    {
     "data": {
      "image/png": "[encoded data removed]",
      "text/plain": [
       "<matplotlib.figure.Figure at 0x114ac0cd0>"
      ]
     },
     "metadata": {},
     "output_type": "display_data"
    }
   ],
   "source": [
    "mytext.dispersion_plot([w for w in mytext.vocab()]) "
   ]
  },
  {
   "cell_type": "code",
   "execution_count": 15,
   "metadata": {},
   "outputs": [
    {
     "name": "stdout",
     "output_type": "stream",
     "text": [
      "engineering_spent technology_also efforts_thus\n"
     ]
    }
   ],
   "source": [
    "mytext.common_contexts(['he'])"
   ]
  },
  {
   "cell_type": "code",
   "execution_count": 16,
   "metadata": {},
   "outputs": [
    {
     "data": {
      "text/plain": [
       "155"
      ]
     },
     "execution_count": 16,
     "metadata": {},
     "output_type": "execute_result"
    }
   ],
   "source": [
    "len(mytext)"
   ]
  },
  {
   "cell_type": "code",
   "execution_count": 17,
   "metadata": {
    "collapsed": true
   },
   "outputs": [],
   "source": [
    "lexical_diversity=len(set(mytext))/float(len(mytext))"
   ]
  },
  {
   "cell_type": "code",
   "execution_count": 18,
   "metadata": {},
   "outputs": [
    {
     "name": "stdout",
     "output_type": "stream",
     "text": [
      "('Lexical_Diversty:', 0.6451612903225806)\n"
     ]
    }
   ],
   "source": [
    "print(\"Lexical_Diversty:\",lexical_diversity)"
   ]
  },
  {
   "cell_type": "code",
   "execution_count": 19,
   "metadata": {},
   "outputs": [
    {
     "data": {
      "text/plain": [
       "['APJ', 'Abdul', 'Kalam', '(', '15', 'October', '1931', '-', '27', 'July']"
      ]
     },
     "execution_count": 19,
     "metadata": {},
     "output_type": "execute_result"
    }
   ],
   "source": [
    "mytext[:10]"
   ]
  },
  {
   "cell_type": "code",
   "execution_count": null,
   "metadata": {
    "collapsed": true
   },
   "outputs": [],
   "source": []
  },
  {
   "cell_type": "code",
   "execution_count": 20,
   "metadata": {
    "collapsed": true
   },
   "outputs": [],
   "source": [
    "fd=FreqDist(mytext)"
   ]
  },
  {
   "cell_type": "code",
   "execution_count": 21,
   "metadata": {},
   "outputs": [
    {
     "data": {
      "text/plain": [
       "[('and', 10), (',', 8), ('the', 7), ('India', 5), ('.', 5)]"
      ]
     },
     "execution_count": 21,
     "metadata": {},
     "output_type": "execute_result"
    }
   ],
   "source": [
    "fd.most_common(5)"
   ]
  },
  {
   "cell_type": "code",
   "execution_count": 22,
   "metadata": {},
   "outputs": [
    {
     "data": {
      "image/png": "[encoded data removed]",
      "text/plain": [
       "<matplotlib.figure.Figure at 0x1153e4f90>"
      ]
     },
     "metadata": {},
     "output_type": "display_data"
    }
   ],
   "source": [
    "fd.plot()"
   ]
  },
  {
   "cell_type": "code",
   "execution_count": 23,
   "metadata": {
    "collapsed": true
   },
   "outputs": [],
   "source": [
    "names = nltk.corpus.names"
   ]
  },
  {
   "cell_type": "code",
   "execution_count": 24,
   "metadata": {
    "collapsed": true
   },
   "outputs": [],
   "source": [
    "male_names = names.words('male.txt')"
   ]
  },
  {
   "cell_type": "markdown",
   "metadata": {
    "collapsed": true
   },
   "source": [
    "# WordNet"
   ]
  },
  {
   "cell_type": "code",
   "execution_count": 25,
   "metadata": {
    "collapsed": true
   },
   "outputs": [],
   "source": [
    "from nltk.corpus import wordnet as wn"
   ]
  },
  {
   "cell_type": "code",
   "execution_count": 26,
   "metadata": {},
   "outputs": [
    {
     "data": {
      "text/plain": [
       "[Synset('car.n.01'),\n",
       " Synset('car.n.02'),\n",
       " Synset('car.n.03'),\n",
       " Synset('car.n.04'),\n",
       " Synset('cable_car.n.01')]"
      ]
     },
     "execution_count": 26,
     "metadata": {},
     "output_type": "execute_result"
    }
   ],
   "source": [
    "wn.synsets('car')"
   ]
  },
  {
   "cell_type": "code",
   "execution_count": 27,
   "metadata": {
    "collapsed": true
   },
   "outputs": [],
   "source": [
    "sn=wn.synset('car.n.01')"
   ]
  },
  {
   "cell_type": "code",
   "execution_count": 28,
   "metadata": {},
   "outputs": [
    {
     "data": {
      "text/plain": [
       "[u'car', u'auto', u'automobile', u'machine', u'motorcar']"
      ]
     },
     "execution_count": 28,
     "metadata": {},
     "output_type": "execute_result"
    }
   ],
   "source": [
    "sn.lemma_names()"
   ]
  },
  {
   "cell_type": "code",
   "execution_count": 29,
   "metadata": {},
   "outputs": [
    {
     "data": {
      "text/plain": [
       "u'a motor vehicle with four wheels; usually propelled by an internal combustion engine'"
      ]
     },
     "execution_count": 29,
     "metadata": {},
     "output_type": "execute_result"
    }
   ],
   "source": [
    "sn.definition()"
   ]
  },
  {
   "cell_type": "code",
   "execution_count": 30,
   "metadata": {},
   "outputs": [
    {
     "data": {
      "text/plain": [
       "[u'he needs a car to get to work']"
      ]
     },
     "execution_count": 30,
     "metadata": {},
     "output_type": "execute_result"
    }
   ],
   "source": [
    "sn.examples()"
   ]
  },
  {
   "cell_type": "code",
   "execution_count": 31,
   "metadata": {},
   "outputs": [
    {
     "data": {
      "text/plain": [
       "[Synset('motor_vehicle.n.01')]"
      ]
     },
     "execution_count": 31,
     "metadata": {},
     "output_type": "execute_result"
    }
   ],
   "source": [
    "sn.hypernyms()"
   ]
  },
  {
   "cell_type": "code",
   "execution_count": 32,
   "metadata": {
    "collapsed": true
   },
   "outputs": [],
   "source": [
    "sn2=wn.synset('motor_vehicle.n.01')"
   ]
  },
  {
   "cell_type": "code",
   "execution_count": 33,
   "metadata": {},
   "outputs": [
    {
     "data": {
      "text/plain": [
       "u'a self-propelled wheeled vehicle that does not run on rails'"
      ]
     },
     "execution_count": 33,
     "metadata": {},
     "output_type": "execute_result"
    }
   ],
   "source": [
    "sn2.definition()"
   ]
  },
  {
   "cell_type": "code",
   "execution_count": 34,
   "metadata": {},
   "outputs": [
    {
     "data": {
      "text/plain": [
       "[u'motor_vehicle', u'automotive_vehicle']"
      ]
     },
     "execution_count": 34,
     "metadata": {},
     "output_type": "execute_result"
    }
   ],
   "source": [
    "sn2.lemma_names()"
   ]
  },
  {
   "cell_type": "markdown",
   "metadata": {},
   "source": [
    "# TAG A WORD"
   ]
  },
  {
   "cell_type": "code",
   "execution_count": 35,
   "metadata": {},
   "outputs": [
    {
     "data": {
      "text/plain": [
       "<Text: APJ Abdul Kalam ( 15 October 1931 -...>"
      ]
     },
     "execution_count": 35,
     "metadata": {},
     "output_type": "execute_result"
    }
   ],
   "source": [
    "mytext"
   ]
  },
  {
   "cell_type": "code",
   "execution_count": 36,
   "metadata": {
    "collapsed": true
   },
   "outputs": [],
   "source": [
    "tag_words=nltk.pos_tag(mytext)\n",
    "# print(tag_words)"
   ]
  },
  {
   "cell_type": "code",
   "execution_count": 37,
   "metadata": {},
   "outputs": [
    {
     "data": {
      "text/plain": [
       "('Abdul', 'NNP')"
      ]
     },
     "execution_count": 37,
     "metadata": {},
     "output_type": "execute_result"
    }
   ],
   "source": [
    "tag_words[1]"
   ]
  },
  {
   "cell_type": "code",
   "execution_count": 38,
   "metadata": {},
   "outputs": [
    {
     "name": "stdout",
     "output_type": "stream",
     "text": [
      "Displaying 1 of 1 matches:\n",
      "st and science administrator , mainly at the Defence Research and Development \n"
     ]
    }
   ],
   "source": [
    "mytext.concordance('at')"
   ]
  },
  {
   "cell_type": "code",
   "execution_count": 39,
   "metadata": {
    "collapsed": true
   },
   "outputs": [],
   "source": [
    "p=nltk.bigrams(tag_words)"
   ]
  },
  {
   "cell_type": "code",
   "execution_count": 40,
   "metadata": {},
   "outputs": [
    {
     "name": "stdout",
     "output_type": "stream",
     "text": [
      "('Abdul', 'NNP')\n",
      "('Kalam', 'NNP')\n",
      "('(', '(')\n",
      "('15', 'CD')\n",
      "('October', 'NNP')\n",
      "('1931', 'CD')\n",
      "('-', ':')\n",
      "('27', 'CD')\n",
      "('July', 'NNP')\n",
      "('2015', 'CD')\n",
      "(')', ')')\n",
      "(',', ',')\n",
      "('was', 'VBD')\n",
      "('the', 'DT')\n",
      "('11th', 'CD')\n",
      "('President', 'NNP')\n",
      "('of', 'IN')\n",
      "('India', 'NNP')\n",
      "('from', 'IN')\n",
      "('2002', 'CD')\n",
      "('to', 'TO')\n",
      "('2007', 'CD')\n",
      "('.', '.')\n",
      "('A', 'DT')\n",
      "('career', 'NN')\n",
      "('scientist', 'NN')\n",
      "('turned', 'VBD')\n",
      "('statesman', 'JJ')\n",
      "(',', ',')\n",
      "('Kalam', 'NNP')\n",
      "('was', 'VBD')\n",
      "('born', 'VBN')\n",
      "('and', 'CC')\n",
      "('raised', 'VBN')\n",
      "('in', 'IN')\n",
      "('Rameswaram', 'NNP')\n",
      "(',', ',')\n",
      "('Tamil', 'NNP')\n",
      "('Nadu', 'NNP')\n",
      "(',', ',')\n",
      "('and', 'CC')\n",
      "('studied', 'VBD')\n",
      "('physics', 'NNS')\n",
      "('and', 'CC')\n",
      "('aerospace', 'NN')\n",
      "('engineering', 'NN')\n",
      "('.', '.')\n",
      "('He', 'PRP')\n",
      "('spent', 'VBD')\n",
      "('the', 'DT')\n",
      "('next', 'JJ')\n",
      "('four', 'CD')\n",
      "('decades', 'NNS')\n",
      "('as', 'IN')\n",
      "('a', 'DT')\n",
      "('scientist', 'NN')\n",
      "('and', 'CC')\n",
      "('science', 'NN')\n",
      "('administrator', 'NN')\n",
      "(',', ',')\n",
      "('mainly', 'RB')\n",
      "('at', 'IN')\n",
      "('the', 'DT')\n",
      "('Defence', 'NNP')\n",
      "('Research', 'NNP')\n",
      "('and', 'CC')\n",
      "('Development', 'NNP')\n",
      "('Organisation', 'NNP')\n",
      "('(', '(')\n",
      "('DRDO', 'NNP')\n",
      "(')', ')')\n",
      "('and', 'CC')\n",
      "('Indian', 'JJ')\n",
      "('Space', 'NNP')\n",
      "('Research', 'NNP')\n",
      "('Organisation', 'NNP')\n",
      "('(', '(')\n",
      "('ISRO', 'NNP')\n",
      "(')', ')')\n",
      "('and', 'CC')\n",
      "('was', 'VBD')\n",
      "('intimately', 'RB')\n",
      "('involved', 'VBN')\n",
      "('in', 'IN')\n",
      "('India', 'NNP')\n",
      "(\"'s\", 'POS')\n",
      "('civilian', 'JJ')\n",
      "('space', 'NN')\n",
      "('programme', 'NN')\n",
      "('and', 'CC')\n",
      "('military', 'JJ')\n",
      "('missile', 'NN')\n",
      "('development', 'NN')\n",
      "('efforts', 'NNS')\n",
      "('.', '.')\n",
      "('He', 'PRP')\n",
      "('thus', 'RB')\n",
      "('came', 'VBD')\n",
      "('to', 'TO')\n",
      "('be', 'VB')\n",
      "('known', 'VBN')\n",
      "('as', 'IN')\n",
      "('the', 'DT')\n",
      "('Missile', 'NNP')\n",
      "('Man', 'NNP')\n",
      "('of', 'IN')\n",
      "('India', 'NNP')\n",
      "('for', 'IN')\n",
      "('his', 'PRP$')\n",
      "('work', 'NN')\n",
      "('on', 'IN')\n",
      "('the', 'DT')\n",
      "('development', 'NN')\n",
      "('of', 'IN')\n",
      "('ballistic', 'JJ')\n",
      "('missile', 'NN')\n",
      "('and', 'CC')\n",
      "('launch', 'JJ')\n",
      "('vehicle', 'NN')\n",
      "('technology', 'NN')\n",
      "('.', '.')\n",
      "('He', 'PRP')\n",
      "('also', 'RB')\n",
      "('played', 'VBD')\n",
      "('a', 'DT')\n",
      "('pivotal', 'JJ')\n",
      "('organisational', 'JJ')\n",
      "(',', ',')\n",
      "('technical', 'JJ')\n",
      "(',', ',')\n",
      "('and', 'CC')\n",
      "('political', 'JJ')\n",
      "('role', 'NN')\n",
      "('in', 'IN')\n",
      "('India', 'NNP')\n",
      "(\"'s\", 'POS')\n",
      "('Pokhran-II', 'JJ')\n",
      "('nuclear', 'JJ')\n",
      "('tests', 'NNS')\n",
      "('in', 'IN')\n",
      "('1998', 'CD')\n",
      "(',', ',')\n",
      "('the', 'DT')\n",
      "('first', 'JJ')\n",
      "('since', 'IN')\n",
      "('the', 'DT')\n",
      "('original', 'JJ')\n",
      "('nuclear', 'JJ')\n",
      "('test', 'NN')\n",
      "('by', 'IN')\n",
      "('India', 'NNP')\n",
      "('in', 'IN')\n",
      "('1974', 'CD')\n",
      "('.', '.')\n"
     ]
    }
   ],
   "source": [
    "for k in p:\n",
    "    print(k[1])"
   ]
  },
  {
   "cell_type": "code",
   "execution_count": 41,
   "metadata": {
    "collapsed": true
   },
   "outputs": [],
   "source": [
    "tree=nltk.Tree('NP',['Alice'])"
   ]
  },
  {
   "cell_type": "code",
   "execution_count": null,
   "metadata": {
    "collapsed": true
   },
   "outputs": [],
   "source": []
  },
  {
   "cell_type": "code",
   "execution_count": 42,
   "metadata": {
    "collapsed": true
   },
   "outputs": [],
   "source": [
    "grammar1 = nltk.CFG.fromstring(\"\"\"\n",
    "  S -> NP VP\n",
    "  VP -> V NP | V NP PP\n",
    "  PP -> P NP\n",
    "  V -> \"saw\" | \"ate\" | \"walked\"\n",
    "  NP -> \"John\" | \"Mary\" | \"Bob\" | Det N | Det N PP\n",
    "  Det -> \"a\" | \"an\" | \"the\" | \"my\"\n",
    "  N -> \"man\" | \"dog\" | \"cat\" | \"telescope\" | \"park\"\n",
    "  P -> \"in\" | \"on\" | \"by\" | \"with\"\n",
    "  \"\"\")"
   ]
  },
  {
   "cell_type": "code",
   "execution_count": 43,
   "metadata": {},
   "outputs": [
    {
     "name": "stdout",
     "output_type": "stream",
     "text": [
      "(S (NP Mary) (VP (V saw) (NP Bob)))\n"
     ]
    }
   ],
   "source": [
    "sent = \"Mary saw Bob\".split()\n",
    "rd_parser = nltk.RecursiveDescentParser(grammar1)\n",
    "for tree in rd_parser.parse(sent):\n",
    "    print(tree)"
   ]
  },
  {
   "cell_type": "code",
   "execution_count": 44,
   "metadata": {
    "collapsed": true
   },
   "outputs": [],
   "source": [
    "sent=\"Mayank is a cool developer\""
   ]
  },
  {
   "cell_type": "code",
   "execution_count": 45,
   "metadata": {
    "collapsed": true
   },
   "outputs": [],
   "source": [
    "sent=sent.split()"
   ]
  },
  {
   "cell_type": "code",
   "execution_count": 46,
   "metadata": {},
   "outputs": [
    {
     "data": {
      "text/plain": [
       "['Mayank', 'is', 'a', 'cool', 'developer']"
      ]
     },
     "execution_count": 46,
     "metadata": {},
     "output_type": "execute_result"
    }
   ],
   "source": [
    "sent"
   ]
  },
  {
   "cell_type": "code",
   "execution_count": null,
   "metadata": {
    "collapsed": true
   },
   "outputs": [],
   "source": []
  },
  {
   "cell_type": "code",
   "execution_count": null,
   "metadata": {
    "collapsed": true
   },
   "outputs": [],
   "source": []
  },
  {
   "cell_type": "code",
   "execution_count": 62,
   "metadata": {},
   "outputs": [],
   "source": [
    "from nltk.twitter import Twitter"
   ]
  },
  {
   "cell_type": "code",
   "execution_count": 63,
   "metadata": {},
   "outputs": [],
   "source": [
    "tw=twitterclient.Twython(app_key=\"bdEMomuDkdKwzjfKG4nCnPYRM\",app_secret=\"LvYPNw3JUkiUXtYpW4ZwLGVG8svUDhxha9mKUXPEBwsE3ZuaPU\",oauth_token=\"744177714605658112-sZGhqtBMcb1DhHa8EOIQHpjIeYmI1wO\",oauth_token_secret=\"tLMjyzZfnUyvNTUHO5WzZkSDOmZo0tfyrTw5LRLB9hZx1\")"
   ]
  },
  {
   "cell_type": "code",
   "execution_count": 64,
   "metadata": {},
   "outputs": [],
   "source": [
    "# tw.verify_credentials()"
   ]
  },
  {
   "cell_type": "code",
   "execution_count": 65,
   "metadata": {},
   "outputs": [],
   "source": [
    "# tw.search(q='VIT',result_type='popular')"
   ]
  },
  {
   "cell_type": "code",
   "execution_count": null,
   "metadata": {},
   "outputs": [],
   "source": []
  },
  {
   "cell_type": "code",
   "execution_count": null,
   "metadata": {},
   "outputs": [],
   "source": []
  },
  {
   "cell_type": "code",
   "execution_count": 70,
   "metadata": {
    "collapsed": true
   },
   "outputs": [],
   "source": [
    "from nltk.twitter import Query, Streamer, Twitter, TweetViewer, TweetWriter, credsfromfile"
   ]
  },
  {
   "cell_type": "code",
   "execution_count": 80,
   "metadata": {},
   "outputs": [
    {
     "name": "stdout",
     "output_type": "stream",
     "text": [
      "RT @anoncatalonia: Un altre cas. https://t.co/NbeH6IJUFE\n",
      "We’re jammin\n",
      "i wanna jam it with you\n",
      "We’re jammin \n",
      "i hope you like jammin too\n",
      "RT @04c1d614db84401: Intérieur palermitain \n",
      "#amoreexpresso série avec @LeCNC  sur @ViaStellaTV @🎬📽 https://t.co/vfMoaR6Jq3\n",
      "RT @connor_hannigan: Picture this: you’re laying in bed, checking Twitter. You remember that finals are coming up and you’re unprepared.… \n",
      "RT @MrPatanaxo: La diferencia entre \"vamos a ver si funciona\" y \"vamos a hacer que funcione\".\n",
      "RT @trishaulli: i can't wait to drive\n",
      "RT @inixmedia: Robert Koch Google doodle honors German physician awarded the 1905 Nobel Prize in medicine https://t.co/iyvUyQEAwi #SEO #Sma…\n",
      "RT @77rDan: 이쯤되면 엑소 반려견 반려묘들 델꼬 찍는 리얼리티 나올때가 됏는데\n",
      "\n",
      "종대의 개는 내가한다.\n",
      "RT @ter_nawapol: Sunday night therapy . https://t.co/qQmFkdhFIZ\n",
      "@gallangos @CeciliaSosaG Siempre votare como buen democrata salvo q usted plantee una opcion mejor para sali d esto\n",
      "Written 10 Tweets\n"
     ]
    }
   ],
   "source": [
    "oauth = credsfromfile(creds_file='twitter-files',subdir='/Users/mayankaggarwal/')\n",
    "client = Streamer(**oauth)\n",
    "client.register(TweetViewer(limit=10))\n",
    "client.sample()"
   ]
  },
  {
   "cell_type": "code",
   "execution_count": 88,
   "metadata": {},
   "outputs": [
    {
     "name": "stdout",
     "output_type": "stream",
     "text": [
      "Taylor Swift is on is 17 mins and we’re still at Stratford\n",
      "When I put the playlist I made for dillon &amp; I on shuffle it goes from Taylor swift to lil pump to ed sheeran &amp; I st… https://t.co/xiBRGfzBuv\n",
      "Ed Sheeran is touring with Taylor Swift. What a powerhouse! lol.\n",
      "RT @globelamp: if Taylor Swift rented out a theater to see Woody Allens new movie you KNOW\n",
      "you KNOW\n",
      "YOU KNOW\n",
      "twitter and the media… \n",
      "@KingOfWesteros5 @agathazarah HAHAHAHAHAHA U TAYLOR SWIFT TRASH\n",
      "RT @Onlylarrydrugs: RT si te gusta\n",
      "\n",
      "Riverdale\n",
      "Teen Wolf\n",
      "Miley \n",
      "Shawn Mendes\n",
      "One direction\n",
      "Dua Lipa\n",
      "Selena Gomez\n",
      "Larry\n",
      "Ariana Grande\n",
      "BTS… \n",
      "RT @TouchItbabyxx: RT IF YOU STAN ONE OF THEM\n",
      "• Ariana Grande\n",
      "• Dua Lipa\n",
      "• Justin Bieber\n",
      "• Camila Cabello\n",
      "• Little mix\n",
      "•  Demi Lovato… \n",
      "shake of https://t.co/sWyBdoBGJ6\n",
      "Taylor Swift had the biggest glo down of all time\n",
      "RT @Forbes: Spotify's most streamed female artists of 2017: \n",
      "1. Rihanna\n",
      "2. Taylor Swift\n",
      "3. Selena Gomez\n",
      "https://t.co/EPR3ShsTZY https://t.c…\n",
      "Written 10 Tweets\n"
     ]
    }
   ],
   "source": [
    "client = Streamer(**oauth)\n",
    "client.register(TweetViewer(limit=10))\n",
    "client.filter(track='Taylor swift')"
   ]
  },
  {
   "cell_type": "code",
   "execution_count": null,
   "metadata": {
    "collapsed": true
   },
   "outputs": [],
   "source": [
    "from nlt.corpus import twitter_samples  "
   ]
  }
 ],
 "metadata": {
  "kernelspec": {
   "display_name": "Python 2",
   "language": "python",
   "name": "python2"
  },
  "language_info": {
   "codemirror_mode": {
    "name": "ipython",
    "version": 2
   },
   "file_extension": ".py",
   "mimetype": "text/x-python",
   "name": "python",
   "nbconvert_exporter": "python",
   "pygments_lexer": "ipython2",
   "version": "2.7.13"
  }
 },
 "nbformat": 4,
 "nbformat_minor": 2
}
