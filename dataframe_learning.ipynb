{
 "cells": [
  {
   "cell_type": "code",
   "execution_count": 7,
   "metadata": {
    "collapsed": true
   },
   "outputs": [],
   "source": [
    "import pandas as pd"
   ]
  },
  {
   "cell_type": "code",
   "execution_count": 8,
   "metadata": {},
   "outputs": [],
   "source": [
    "import numpy as np"
   ]
  },
  {
   "cell_type": "code",
   "execution_count": 9,
   "metadata": {
    "collapsed": true
   },
   "outputs": [],
   "source": [
    "from numpy.random import randn"
   ]
  },
  {
   "cell_type": "code",
   "execution_count": 10,
   "metadata": {
    "collapsed": true
   },
   "outputs": [],
   "source": [
    "np.random.seed(10)"
   ]
  },
  {
   "cell_type": "code",
   "execution_count": 11,
   "metadata": {},
   "outputs": [],
   "source": [
    "arr=np.array(randn(5,5))"
   ]
  },
  {
   "cell_type": "code",
   "execution_count": 12,
   "metadata": {},
   "outputs": [
    {
     "data": {
      "text/plain": [
       "array([[ 1.3315865 ,  0.71527897, -1.54540029, -0.00838385,  0.62133597],\n",
       "       [-0.72008556,  0.26551159,  0.10854853,  0.00429143, -0.17460021],\n",
       "       [ 0.43302619,  1.20303737, -0.96506567,  1.02827408,  0.22863013],\n",
       "       [ 0.44513761, -1.13660221,  0.13513688,  1.484537  , -1.07980489],\n",
       "       [-1.97772828, -1.7433723 ,  0.26607016,  2.38496733,  1.12369125]])"
      ]
     },
     "execution_count": 12,
     "metadata": {},
     "output_type": "execute_result"
    }
   ],
   "source": [
    "arr"
   ]
  },
  {
   "cell_type": "code",
   "execution_count": 13,
   "metadata": {},
   "outputs": [
    {
     "data": {
      "text/plain": [
       "0    1\n",
       "1    2\n",
       "2    3\n",
       "dtype: int64"
      ]
     },
     "execution_count": 13,
     "metadata": {},
     "output_type": "execute_result"
    }
   ],
   "source": [
    "pd.Series([1,2,3])"
   ]
  },
  {
   "cell_type": "code",
   "execution_count": 14,
   "metadata": {},
   "outputs": [
    {
     "data": {
      "text/plain": [
       "0    1.331587\n",
       "1    0.715279\n",
       "2   -1.545400\n",
       "3   -0.008384\n",
       "4    0.621336\n",
       "dtype: float64"
      ]
     },
     "execution_count": 14,
     "metadata": {},
     "output_type": "execute_result"
    }
   ],
   "source": [
    "pd.Series(arr[0])"
   ]
  },
  {
   "cell_type": "code",
   "execution_count": 15,
   "metadata": {},
   "outputs": [
    {
     "data": {
      "text/plain": [
       "1    1.331587\n",
       "2    0.715279\n",
       "3   -1.545400\n",
       "4   -0.008384\n",
       "5    0.621336\n",
       "dtype: float64"
      ]
     },
     "execution_count": 15,
     "metadata": {},
     "output_type": "execute_result"
    }
   ],
   "source": [
    "pd.Series(data=arr[0],index=[1,2,3,4,5])"
   ]
  },
  {
   "cell_type": "code",
   "execution_count": 16,
   "metadata": {},
   "outputs": [
    {
     "ename": "TypeError",
     "evalue": "unbound method idxmax() must be called with Series instance as first argument (got ndarray instance instead)",
     "output_type": "error",
     "traceback": [
      "\u001b[0;31m---------------------------------------------------------------------------\u001b[0m",
      "\u001b[0;31mTypeError\u001b[0m                                 Traceback (most recent call last)",
      "\u001b[0;32m<ipython-input-16-15ac0b07e7ab>\u001b[0m in \u001b[0;36m<module>\u001b[0;34m()\u001b[0m\n\u001b[0;32m----> 1\u001b[0;31m \u001b[0mpd\u001b[0m\u001b[0;34m.\u001b[0m\u001b[0mSeries\u001b[0m\u001b[0;34m.\u001b[0m\u001b[0margmax\u001b[0m\u001b[0;34m(\u001b[0m\u001b[0marr\u001b[0m\u001b[0;34m)\u001b[0m\u001b[0;34m\u001b[0m\u001b[0m\n\u001b[0m",
      "\u001b[0;31mTypeError\u001b[0m: unbound method idxmax() must be called with Series instance as first argument (got ndarray instance instead)"
     ]
    }
   ],
   "source": [
    "pd.Series.argmax(arr)"
   ]
  },
  {
   "cell_type": "code",
   "execution_count": null,
   "metadata": {},
   "outputs": [],
   "source": [
    "np.max(arr)"
   ]
  },
  {
   "cell_type": "code",
   "execution_count": 17,
   "metadata": {},
   "outputs": [
    {
     "data": {
      "text/html": [
       "<div>\n",
       "<style>\n",
       "    .dataframe thead tr:only-child th {\n",
       "        text-align: right;\n",
       "    }\n",
       "\n",
       "    .dataframe thead th {\n",
       "        text-align: left;\n",
       "    }\n",
       "\n",
       "    .dataframe tbody tr th {\n",
       "        vertical-align: top;\n",
       "    }\n",
       "</style>\n",
       "<table border=\"1\" class=\"dataframe\">\n",
       "  <thead>\n",
       "    <tr style=\"text-align: right;\">\n",
       "      <th></th>\n",
       "      <th>0</th>\n",
       "    </tr>\n",
       "  </thead>\n",
       "  <tbody>\n",
       "    <tr>\n",
       "      <th>0</th>\n",
       "      <td>1</td>\n",
       "    </tr>\n",
       "    <tr>\n",
       "      <th>1</th>\n",
       "      <td>2</td>\n",
       "    </tr>\n",
       "    <tr>\n",
       "      <th>2</th>\n",
       "      <td>3</td>\n",
       "    </tr>\n",
       "    <tr>\n",
       "      <th>3</th>\n",
       "      <td>4</td>\n",
       "    </tr>\n",
       "    <tr>\n",
       "      <th>4</th>\n",
       "      <td>5</td>\n",
       "    </tr>\n",
       "  </tbody>\n",
       "</table>\n",
       "</div>"
      ],
      "text/plain": [
       "   0\n",
       "0  1\n",
       "1  2\n",
       "2  3\n",
       "3  4\n",
       "4  5"
      ]
     },
     "execution_count": 17,
     "metadata": {},
     "output_type": "execute_result"
    }
   ],
   "source": [
    "pd.DataFrame([1,2,3,4,5])"
   ]
  },
  {
   "cell_type": "code",
   "execution_count": 18,
   "metadata": {},
   "outputs": [],
   "source": [
    "df=pd.DataFrame(arr)"
   ]
  },
  {
   "cell_type": "code",
   "execution_count": 19,
   "metadata": {},
   "outputs": [
    {
     "data": {
      "text/html": [
       "<div>\n",
       "<style>\n",
       "    .dataframe thead tr:only-child th {\n",
       "        text-align: right;\n",
       "    }\n",
       "\n",
       "    .dataframe thead th {\n",
       "        text-align: left;\n",
       "    }\n",
       "\n",
       "    .dataframe tbody tr th {\n",
       "        vertical-align: top;\n",
       "    }\n",
       "</style>\n",
       "<table border=\"1\" class=\"dataframe\">\n",
       "  <thead>\n",
       "    <tr style=\"text-align: right;\">\n",
       "      <th></th>\n",
       "      <th>0</th>\n",
       "      <th>1</th>\n",
       "      <th>2</th>\n",
       "      <th>3</th>\n",
       "      <th>4</th>\n",
       "    </tr>\n",
       "  </thead>\n",
       "  <tbody>\n",
       "    <tr>\n",
       "      <th>0</th>\n",
       "      <td>1.331587</td>\n",
       "      <td>0.715279</td>\n",
       "      <td>-1.545400</td>\n",
       "      <td>-0.008384</td>\n",
       "      <td>0.621336</td>\n",
       "    </tr>\n",
       "    <tr>\n",
       "      <th>1</th>\n",
       "      <td>-0.720086</td>\n",
       "      <td>0.265512</td>\n",
       "      <td>0.108549</td>\n",
       "      <td>0.004291</td>\n",
       "      <td>-0.174600</td>\n",
       "    </tr>\n",
       "    <tr>\n",
       "      <th>2</th>\n",
       "      <td>0.433026</td>\n",
       "      <td>1.203037</td>\n",
       "      <td>-0.965066</td>\n",
       "      <td>1.028274</td>\n",
       "      <td>0.228630</td>\n",
       "    </tr>\n",
       "    <tr>\n",
       "      <th>3</th>\n",
       "      <td>0.445138</td>\n",
       "      <td>-1.136602</td>\n",
       "      <td>0.135137</td>\n",
       "      <td>1.484537</td>\n",
       "      <td>-1.079805</td>\n",
       "    </tr>\n",
       "    <tr>\n",
       "      <th>4</th>\n",
       "      <td>-1.977728</td>\n",
       "      <td>-1.743372</td>\n",
       "      <td>0.266070</td>\n",
       "      <td>2.384967</td>\n",
       "      <td>1.123691</td>\n",
       "    </tr>\n",
       "  </tbody>\n",
       "</table>\n",
       "</div>"
      ],
      "text/plain": [
       "          0         1         2         3         4\n",
       "0  1.331587  0.715279 -1.545400 -0.008384  0.621336\n",
       "1 -0.720086  0.265512  0.108549  0.004291 -0.174600\n",
       "2  0.433026  1.203037 -0.965066  1.028274  0.228630\n",
       "3  0.445138 -1.136602  0.135137  1.484537 -1.079805\n",
       "4 -1.977728 -1.743372  0.266070  2.384967  1.123691"
      ]
     },
     "execution_count": 19,
     "metadata": {},
     "output_type": "execute_result"
    }
   ],
   "source": [
    "df"
   ]
  },
  {
   "cell_type": "code",
   "execution_count": 20,
   "metadata": {},
   "outputs": [
    {
     "data": {
      "text/html": [
       "<div>\n",
       "<style>\n",
       "    .dataframe thead tr:only-child th {\n",
       "        text-align: right;\n",
       "    }\n",
       "\n",
       "    .dataframe thead th {\n",
       "        text-align: left;\n",
       "    }\n",
       "\n",
       "    .dataframe tbody tr th {\n",
       "        vertical-align: top;\n",
       "    }\n",
       "</style>\n",
       "<table border=\"1\" class=\"dataframe\">\n",
       "  <thead>\n",
       "    <tr style=\"text-align: right;\">\n",
       "      <th></th>\n",
       "      <th>0</th>\n",
       "      <th>1</th>\n",
       "      <th>2</th>\n",
       "      <th>3</th>\n",
       "      <th>4</th>\n",
       "    </tr>\n",
       "  </thead>\n",
       "  <tbody>\n",
       "    <tr>\n",
       "      <th>0</th>\n",
       "      <td>1.331587</td>\n",
       "      <td>0.715279</td>\n",
       "      <td>-1.545400</td>\n",
       "      <td>-0.008384</td>\n",
       "      <td>0.621336</td>\n",
       "    </tr>\n",
       "    <tr>\n",
       "      <th>1</th>\n",
       "      <td>-0.720086</td>\n",
       "      <td>0.265512</td>\n",
       "      <td>0.108549</td>\n",
       "      <td>0.004291</td>\n",
       "      <td>-0.174600</td>\n",
       "    </tr>\n",
       "    <tr>\n",
       "      <th>2</th>\n",
       "      <td>0.433026</td>\n",
       "      <td>1.203037</td>\n",
       "      <td>-0.965066</td>\n",
       "      <td>1.028274</td>\n",
       "      <td>0.228630</td>\n",
       "    </tr>\n",
       "    <tr>\n",
       "      <th>4</th>\n",
       "      <td>-1.977728</td>\n",
       "      <td>-1.743372</td>\n",
       "      <td>0.266070</td>\n",
       "      <td>2.384967</td>\n",
       "      <td>1.123691</td>\n",
       "    </tr>\n",
       "  </tbody>\n",
       "</table>\n",
       "</div>"
      ],
      "text/plain": [
       "          0         1         2         3         4\n",
       "0  1.331587  0.715279 -1.545400 -0.008384  0.621336\n",
       "1 -0.720086  0.265512  0.108549  0.004291 -0.174600\n",
       "2  0.433026  1.203037 -0.965066  1.028274  0.228630\n",
       "4 -1.977728 -1.743372  0.266070  2.384967  1.123691"
      ]
     },
     "execution_count": 20,
     "metadata": {},
     "output_type": "execute_result"
    }
   ],
   "source": [
    "df.drop(3)"
   ]
  },
  {
   "cell_type": "code",
   "execution_count": 21,
   "metadata": {},
   "outputs": [
    {
     "data": {
      "text/html": [
       "<div>\n",
       "<style>\n",
       "    .dataframe thead tr:only-child th {\n",
       "        text-align: right;\n",
       "    }\n",
       "\n",
       "    .dataframe thead th {\n",
       "        text-align: left;\n",
       "    }\n",
       "\n",
       "    .dataframe tbody tr th {\n",
       "        vertical-align: top;\n",
       "    }\n",
       "</style>\n",
       "<table border=\"1\" class=\"dataframe\">\n",
       "  <thead>\n",
       "    <tr style=\"text-align: right;\">\n",
       "      <th></th>\n",
       "      <th>0</th>\n",
       "      <th>1</th>\n",
       "      <th>2</th>\n",
       "      <th>3</th>\n",
       "      <th>4</th>\n",
       "    </tr>\n",
       "  </thead>\n",
       "  <tbody>\n",
       "    <tr>\n",
       "      <th>0</th>\n",
       "      <td>1.331587</td>\n",
       "      <td>0.715279</td>\n",
       "      <td>-1.545400</td>\n",
       "      <td>-0.008384</td>\n",
       "      <td>0.621336</td>\n",
       "    </tr>\n",
       "    <tr>\n",
       "      <th>1</th>\n",
       "      <td>-0.720086</td>\n",
       "      <td>0.265512</td>\n",
       "      <td>0.108549</td>\n",
       "      <td>0.004291</td>\n",
       "      <td>-0.174600</td>\n",
       "    </tr>\n",
       "    <tr>\n",
       "      <th>2</th>\n",
       "      <td>0.433026</td>\n",
       "      <td>1.203037</td>\n",
       "      <td>-0.965066</td>\n",
       "      <td>1.028274</td>\n",
       "      <td>0.228630</td>\n",
       "    </tr>\n",
       "    <tr>\n",
       "      <th>3</th>\n",
       "      <td>0.445138</td>\n",
       "      <td>-1.136602</td>\n",
       "      <td>0.135137</td>\n",
       "      <td>1.484537</td>\n",
       "      <td>-1.079805</td>\n",
       "    </tr>\n",
       "    <tr>\n",
       "      <th>4</th>\n",
       "      <td>-1.977728</td>\n",
       "      <td>-1.743372</td>\n",
       "      <td>0.266070</td>\n",
       "      <td>2.384967</td>\n",
       "      <td>1.123691</td>\n",
       "    </tr>\n",
       "  </tbody>\n",
       "</table>\n",
       "</div>"
      ],
      "text/plain": [
       "          0         1         2         3         4\n",
       "0  1.331587  0.715279 -1.545400 -0.008384  0.621336\n",
       "1 -0.720086  0.265512  0.108549  0.004291 -0.174600\n",
       "2  0.433026  1.203037 -0.965066  1.028274  0.228630\n",
       "3  0.445138 -1.136602  0.135137  1.484537 -1.079805\n",
       "4 -1.977728 -1.743372  0.266070  2.384967  1.123691"
      ]
     },
     "execution_count": 21,
     "metadata": {},
     "output_type": "execute_result"
    }
   ],
   "source": [
    "df"
   ]
  },
  {
   "cell_type": "code",
   "execution_count": 22,
   "metadata": {},
   "outputs": [],
   "source": [
    "booldf=df>0"
   ]
  },
  {
   "cell_type": "code",
   "execution_count": 23,
   "metadata": {},
   "outputs": [
    {
     "data": {
      "text/html": [
       "<div>\n",
       "<style>\n",
       "    .dataframe thead tr:only-child th {\n",
       "        text-align: right;\n",
       "    }\n",
       "\n",
       "    .dataframe thead th {\n",
       "        text-align: left;\n",
       "    }\n",
       "\n",
       "    .dataframe tbody tr th {\n",
       "        vertical-align: top;\n",
       "    }\n",
       "</style>\n",
       "<table border=\"1\" class=\"dataframe\">\n",
       "  <thead>\n",
       "    <tr style=\"text-align: right;\">\n",
       "      <th></th>\n",
       "      <th>0</th>\n",
       "      <th>1</th>\n",
       "      <th>2</th>\n",
       "      <th>3</th>\n",
       "      <th>4</th>\n",
       "    </tr>\n",
       "  </thead>\n",
       "  <tbody>\n",
       "    <tr>\n",
       "      <th>0</th>\n",
       "      <td>True</td>\n",
       "      <td>True</td>\n",
       "      <td>False</td>\n",
       "      <td>False</td>\n",
       "      <td>True</td>\n",
       "    </tr>\n",
       "    <tr>\n",
       "      <th>1</th>\n",
       "      <td>False</td>\n",
       "      <td>True</td>\n",
       "      <td>True</td>\n",
       "      <td>True</td>\n",
       "      <td>False</td>\n",
       "    </tr>\n",
       "    <tr>\n",
       "      <th>2</th>\n",
       "      <td>True</td>\n",
       "      <td>True</td>\n",
       "      <td>False</td>\n",
       "      <td>True</td>\n",
       "      <td>True</td>\n",
       "    </tr>\n",
       "    <tr>\n",
       "      <th>3</th>\n",
       "      <td>True</td>\n",
       "      <td>False</td>\n",
       "      <td>True</td>\n",
       "      <td>True</td>\n",
       "      <td>False</td>\n",
       "    </tr>\n",
       "    <tr>\n",
       "      <th>4</th>\n",
       "      <td>False</td>\n",
       "      <td>False</td>\n",
       "      <td>True</td>\n",
       "      <td>True</td>\n",
       "      <td>True</td>\n",
       "    </tr>\n",
       "  </tbody>\n",
       "</table>\n",
       "</div>"
      ],
      "text/plain": [
       "       0      1      2      3      4\n",
       "0   True   True  False  False   True\n",
       "1  False   True   True   True  False\n",
       "2   True   True  False   True   True\n",
       "3   True  False   True   True  False\n",
       "4  False  False   True   True   True"
      ]
     },
     "execution_count": 23,
     "metadata": {},
     "output_type": "execute_result"
    }
   ],
   "source": [
    "booldf"
   ]
  },
  {
   "cell_type": "code",
   "execution_count": 24,
   "metadata": {},
   "outputs": [
    {
     "data": {
      "text/html": [
       "<div>\n",
       "<style>\n",
       "    .dataframe thead tr:only-child th {\n",
       "        text-align: right;\n",
       "    }\n",
       "\n",
       "    .dataframe thead th {\n",
       "        text-align: left;\n",
       "    }\n",
       "\n",
       "    .dataframe tbody tr th {\n",
       "        vertical-align: top;\n",
       "    }\n",
       "</style>\n",
       "<table border=\"1\" class=\"dataframe\">\n",
       "  <thead>\n",
       "    <tr style=\"text-align: right;\">\n",
       "      <th></th>\n",
       "      <th>0</th>\n",
       "      <th>1</th>\n",
       "      <th>2</th>\n",
       "      <th>3</th>\n",
       "      <th>4</th>\n",
       "    </tr>\n",
       "  </thead>\n",
       "  <tbody>\n",
       "    <tr>\n",
       "      <th>0</th>\n",
       "      <td>1.331587</td>\n",
       "      <td>0.715279</td>\n",
       "      <td>NaN</td>\n",
       "      <td>NaN</td>\n",
       "      <td>0.621336</td>\n",
       "    </tr>\n",
       "    <tr>\n",
       "      <th>1</th>\n",
       "      <td>NaN</td>\n",
       "      <td>0.265512</td>\n",
       "      <td>0.108549</td>\n",
       "      <td>0.004291</td>\n",
       "      <td>NaN</td>\n",
       "    </tr>\n",
       "    <tr>\n",
       "      <th>2</th>\n",
       "      <td>0.433026</td>\n",
       "      <td>1.203037</td>\n",
       "      <td>NaN</td>\n",
       "      <td>1.028274</td>\n",
       "      <td>0.228630</td>\n",
       "    </tr>\n",
       "    <tr>\n",
       "      <th>3</th>\n",
       "      <td>0.445138</td>\n",
       "      <td>NaN</td>\n",
       "      <td>0.135137</td>\n",
       "      <td>1.484537</td>\n",
       "      <td>NaN</td>\n",
       "    </tr>\n",
       "    <tr>\n",
       "      <th>4</th>\n",
       "      <td>NaN</td>\n",
       "      <td>NaN</td>\n",
       "      <td>0.266070</td>\n",
       "      <td>2.384967</td>\n",
       "      <td>1.123691</td>\n",
       "    </tr>\n",
       "  </tbody>\n",
       "</table>\n",
       "</div>"
      ],
      "text/plain": [
       "          0         1         2         3         4\n",
       "0  1.331587  0.715279       NaN       NaN  0.621336\n",
       "1       NaN  0.265512  0.108549  0.004291       NaN\n",
       "2  0.433026  1.203037       NaN  1.028274  0.228630\n",
       "3  0.445138       NaN  0.135137  1.484537       NaN\n",
       "4       NaN       NaN  0.266070  2.384967  1.123691"
      ]
     },
     "execution_count": 24,
     "metadata": {},
     "output_type": "execute_result"
    }
   ],
   "source": [
    "df[booldf]"
   ]
  },
  {
   "cell_type": "code",
   "execution_count": 25,
   "metadata": {},
   "outputs": [
    {
     "data": {
      "text/html": [
       "<div>\n",
       "<style>\n",
       "    .dataframe thead tr:only-child th {\n",
       "        text-align: right;\n",
       "    }\n",
       "\n",
       "    .dataframe thead th {\n",
       "        text-align: left;\n",
       "    }\n",
       "\n",
       "    .dataframe tbody tr th {\n",
       "        vertical-align: top;\n",
       "    }\n",
       "</style>\n",
       "<table border=\"1\" class=\"dataframe\">\n",
       "  <thead>\n",
       "    <tr style=\"text-align: right;\">\n",
       "      <th></th>\n",
       "      <th>0</th>\n",
       "      <th>1</th>\n",
       "      <th>2</th>\n",
       "      <th>3</th>\n",
       "      <th>4</th>\n",
       "    </tr>\n",
       "  </thead>\n",
       "  <tbody>\n",
       "    <tr>\n",
       "      <th>0</th>\n",
       "      <td>NaN</td>\n",
       "      <td>NaN</td>\n",
       "      <td>-1.545400</td>\n",
       "      <td>-0.008384</td>\n",
       "      <td>NaN</td>\n",
       "    </tr>\n",
       "    <tr>\n",
       "      <th>1</th>\n",
       "      <td>-0.720086</td>\n",
       "      <td>NaN</td>\n",
       "      <td>NaN</td>\n",
       "      <td>NaN</td>\n",
       "      <td>-0.174600</td>\n",
       "    </tr>\n",
       "    <tr>\n",
       "      <th>2</th>\n",
       "      <td>NaN</td>\n",
       "      <td>NaN</td>\n",
       "      <td>-0.965066</td>\n",
       "      <td>NaN</td>\n",
       "      <td>NaN</td>\n",
       "    </tr>\n",
       "    <tr>\n",
       "      <th>3</th>\n",
       "      <td>NaN</td>\n",
       "      <td>-1.136602</td>\n",
       "      <td>NaN</td>\n",
       "      <td>NaN</td>\n",
       "      <td>-1.079805</td>\n",
       "    </tr>\n",
       "    <tr>\n",
       "      <th>4</th>\n",
       "      <td>-1.977728</td>\n",
       "      <td>-1.743372</td>\n",
       "      <td>NaN</td>\n",
       "      <td>NaN</td>\n",
       "      <td>NaN</td>\n",
       "    </tr>\n",
       "  </tbody>\n",
       "</table>\n",
       "</div>"
      ],
      "text/plain": [
       "          0         1         2         3         4\n",
       "0       NaN       NaN -1.545400 -0.008384       NaN\n",
       "1 -0.720086       NaN       NaN       NaN -0.174600\n",
       "2       NaN       NaN -0.965066       NaN       NaN\n",
       "3       NaN -1.136602       NaN       NaN -1.079805\n",
       "4 -1.977728 -1.743372       NaN       NaN       NaN"
      ]
     },
     "execution_count": 25,
     "metadata": {},
     "output_type": "execute_result"
    }
   ],
   "source": [
    "df[df<0]"
   ]
  },
  {
   "cell_type": "code",
   "execution_count": 26,
   "metadata": {},
   "outputs": [
    {
     "data": {
      "text/html": [
       "<div>\n",
       "<style>\n",
       "    .dataframe thead tr:only-child th {\n",
       "        text-align: right;\n",
       "    }\n",
       "\n",
       "    .dataframe thead th {\n",
       "        text-align: left;\n",
       "    }\n",
       "\n",
       "    .dataframe tbody tr th {\n",
       "        vertical-align: top;\n",
       "    }\n",
       "</style>\n",
       "<table border=\"1\" class=\"dataframe\">\n",
       "  <thead>\n",
       "    <tr style=\"text-align: right;\">\n",
       "      <th></th>\n",
       "      <th>0</th>\n",
       "      <th>1</th>\n",
       "      <th>2</th>\n",
       "      <th>3</th>\n",
       "      <th>4</th>\n",
       "    </tr>\n",
       "  </thead>\n",
       "  <tbody>\n",
       "    <tr>\n",
       "      <th>0</th>\n",
       "      <td>1.331587</td>\n",
       "      <td>0.715279</td>\n",
       "      <td>-1.545400</td>\n",
       "      <td>-0.008384</td>\n",
       "      <td>0.621336</td>\n",
       "    </tr>\n",
       "    <tr>\n",
       "      <th>1</th>\n",
       "      <td>-0.720086</td>\n",
       "      <td>0.265512</td>\n",
       "      <td>0.108549</td>\n",
       "      <td>0.004291</td>\n",
       "      <td>-0.174600</td>\n",
       "    </tr>\n",
       "    <tr>\n",
       "      <th>2</th>\n",
       "      <td>0.433026</td>\n",
       "      <td>1.203037</td>\n",
       "      <td>-0.965066</td>\n",
       "      <td>1.028274</td>\n",
       "      <td>0.228630</td>\n",
       "    </tr>\n",
       "    <tr>\n",
       "      <th>3</th>\n",
       "      <td>0.445138</td>\n",
       "      <td>-1.136602</td>\n",
       "      <td>0.135137</td>\n",
       "      <td>1.484537</td>\n",
       "      <td>-1.079805</td>\n",
       "    </tr>\n",
       "    <tr>\n",
       "      <th>4</th>\n",
       "      <td>-1.977728</td>\n",
       "      <td>-1.743372</td>\n",
       "      <td>0.266070</td>\n",
       "      <td>2.384967</td>\n",
       "      <td>1.123691</td>\n",
       "    </tr>\n",
       "  </tbody>\n",
       "</table>\n",
       "</div>"
      ],
      "text/plain": [
       "          0         1         2         3         4\n",
       "0  1.331587  0.715279 -1.545400 -0.008384  0.621336\n",
       "1 -0.720086  0.265512  0.108549  0.004291 -0.174600\n",
       "2  0.433026  1.203037 -0.965066  1.028274  0.228630\n",
       "3  0.445138 -1.136602  0.135137  1.484537 -1.079805\n",
       "4 -1.977728 -1.743372  0.266070  2.384967  1.123691"
      ]
     },
     "execution_count": 26,
     "metadata": {},
     "output_type": "execute_result"
    }
   ],
   "source": [
    "df"
   ]
  },
  {
   "cell_type": "code",
   "execution_count": 27,
   "metadata": {},
   "outputs": [
    {
     "data": {
      "text/html": [
       "<div>\n",
       "<style>\n",
       "    .dataframe thead tr:only-child th {\n",
       "        text-align: right;\n",
       "    }\n",
       "\n",
       "    .dataframe thead th {\n",
       "        text-align: left;\n",
       "    }\n",
       "\n",
       "    .dataframe tbody tr th {\n",
       "        vertical-align: top;\n",
       "    }\n",
       "</style>\n",
       "<table border=\"1\" class=\"dataframe\">\n",
       "  <thead>\n",
       "    <tr style=\"text-align: right;\">\n",
       "      <th></th>\n",
       "      <th>0</th>\n",
       "      <th>1</th>\n",
       "      <th>2</th>\n",
       "      <th>3</th>\n",
       "      <th>4</th>\n",
       "    </tr>\n",
       "  </thead>\n",
       "  <tbody>\n",
       "    <tr>\n",
       "      <th>0</th>\n",
       "      <td>1.331587</td>\n",
       "      <td>0.715279</td>\n",
       "      <td>-1.545400</td>\n",
       "      <td>-0.008384</td>\n",
       "      <td>0.621336</td>\n",
       "    </tr>\n",
       "    <tr>\n",
       "      <th>1</th>\n",
       "      <td>-0.720086</td>\n",
       "      <td>0.265512</td>\n",
       "      <td>0.108549</td>\n",
       "      <td>0.004291</td>\n",
       "      <td>-0.174600</td>\n",
       "    </tr>\n",
       "    <tr>\n",
       "      <th>2</th>\n",
       "      <td>0.433026</td>\n",
       "      <td>1.203037</td>\n",
       "      <td>-0.965066</td>\n",
       "      <td>1.028274</td>\n",
       "      <td>0.228630</td>\n",
       "    </tr>\n",
       "  </tbody>\n",
       "</table>\n",
       "</div>"
      ],
      "text/plain": [
       "          0         1         2         3         4\n",
       "0  1.331587  0.715279 -1.545400 -0.008384  0.621336\n",
       "1 -0.720086  0.265512  0.108549  0.004291 -0.174600\n",
       "2  0.433026  1.203037 -0.965066  1.028274  0.228630"
      ]
     },
     "execution_count": 27,
     "metadata": {},
     "output_type": "execute_result"
    }
   ],
   "source": [
    "df[(df[0]>1) | (df[1]>0)]"
   ]
  },
  {
   "cell_type": "code",
   "execution_count": 28,
   "metadata": {},
   "outputs": [
    {
     "data": {
      "text/html": [
       "<div>\n",
       "<style>\n",
       "    .dataframe thead tr:only-child th {\n",
       "        text-align: right;\n",
       "    }\n",
       "\n",
       "    .dataframe thead th {\n",
       "        text-align: left;\n",
       "    }\n",
       "\n",
       "    .dataframe tbody tr th {\n",
       "        vertical-align: top;\n",
       "    }\n",
       "</style>\n",
       "<table border=\"1\" class=\"dataframe\">\n",
       "  <thead>\n",
       "    <tr style=\"text-align: right;\">\n",
       "      <th></th>\n",
       "      <th>0</th>\n",
       "      <th>1</th>\n",
       "      <th>2</th>\n",
       "      <th>3</th>\n",
       "      <th>4</th>\n",
       "    </tr>\n",
       "  </thead>\n",
       "  <tbody>\n",
       "    <tr>\n",
       "      <th>0</th>\n",
       "      <td>1.331587</td>\n",
       "      <td>0.715279</td>\n",
       "      <td>-1.5454</td>\n",
       "      <td>-0.008384</td>\n",
       "      <td>0.621336</td>\n",
       "    </tr>\n",
       "  </tbody>\n",
       "</table>\n",
       "</div>"
      ],
      "text/plain": [
       "          0         1       2         3         4\n",
       "0  1.331587  0.715279 -1.5454 -0.008384  0.621336"
      ]
     },
     "execution_count": 28,
     "metadata": {},
     "output_type": "execute_result"
    }
   ],
   "source": [
    "df[df[0]>1] "
   ]
  },
  {
   "cell_type": "code",
   "execution_count": 29,
   "metadata": {
    "collapsed": true
   },
   "outputs": [],
   "source": [
    "outer=['G1','G1','G1','G2','G2','G2']\n",
    "inner=['1','2','3','1','2','3']\n",
    "index=list(zip(outer,inner))\n",
    "index= pd.MultiIndex.from_tuples(index)"
   ]
  },
  {
   "cell_type": "code",
   "execution_count": 30,
   "metadata": {},
   "outputs": [
    {
     "data": {
      "text/plain": [
       "MultiIndex(levels=[[u'G1', u'G2'], [u'1', u'2', u'3']],\n",
       "           labels=[[0, 0, 0, 1, 1, 1], [0, 1, 2, 0, 1, 2]])"
      ]
     },
     "execution_count": 30,
     "metadata": {},
     "output_type": "execute_result"
    }
   ],
   "source": [
    "index"
   ]
  },
  {
   "cell_type": "code",
   "execution_count": 31,
   "metadata": {},
   "outputs": [],
   "source": [
    "df=pd.DataFrame(randn(6,5),index,[1,2,3,4,5])"
   ]
  },
  {
   "cell_type": "code",
   "execution_count": 32,
   "metadata": {},
   "outputs": [
    {
     "data": {
      "text/html": [
       "<div>\n",
       "<style>\n",
       "    .dataframe thead tr:only-child th {\n",
       "        text-align: right;\n",
       "    }\n",
       "\n",
       "    .dataframe thead th {\n",
       "        text-align: left;\n",
       "    }\n",
       "\n",
       "    .dataframe tbody tr th {\n",
       "        vertical-align: top;\n",
       "    }\n",
       "</style>\n",
       "<table border=\"1\" class=\"dataframe\">\n",
       "  <thead>\n",
       "    <tr style=\"text-align: right;\">\n",
       "      <th></th>\n",
       "      <th></th>\n",
       "      <th>1</th>\n",
       "      <th>2</th>\n",
       "      <th>3</th>\n",
       "      <th>4</th>\n",
       "      <th>5</th>\n",
       "    </tr>\n",
       "  </thead>\n",
       "  <tbody>\n",
       "    <tr>\n",
       "      <th rowspan=\"3\" valign=\"top\">G1</th>\n",
       "      <th>1</th>\n",
       "      <td>1.672622</td>\n",
       "      <td>0.099149</td>\n",
       "      <td>1.397996</td>\n",
       "      <td>-0.271248</td>\n",
       "      <td>0.613204</td>\n",
       "    </tr>\n",
       "    <tr>\n",
       "      <th>2</th>\n",
       "      <td>-0.267317</td>\n",
       "      <td>-0.549309</td>\n",
       "      <td>0.132708</td>\n",
       "      <td>-0.476142</td>\n",
       "      <td>1.308473</td>\n",
       "    </tr>\n",
       "    <tr>\n",
       "      <th>3</th>\n",
       "      <td>0.195013</td>\n",
       "      <td>0.400210</td>\n",
       "      <td>-0.337632</td>\n",
       "      <td>1.256472</td>\n",
       "      <td>-0.731970</td>\n",
       "    </tr>\n",
       "    <tr>\n",
       "      <th rowspan=\"3\" valign=\"top\">G2</th>\n",
       "      <th>1</th>\n",
       "      <td>0.660232</td>\n",
       "      <td>-0.350872</td>\n",
       "      <td>-0.939433</td>\n",
       "      <td>-0.489337</td>\n",
       "      <td>-0.804591</td>\n",
       "    </tr>\n",
       "    <tr>\n",
       "      <th>2</th>\n",
       "      <td>-0.212698</td>\n",
       "      <td>-0.339140</td>\n",
       "      <td>0.312170</td>\n",
       "      <td>0.565153</td>\n",
       "      <td>-0.147420</td>\n",
       "    </tr>\n",
       "    <tr>\n",
       "      <th>3</th>\n",
       "      <td>-0.025905</td>\n",
       "      <td>0.289094</td>\n",
       "      <td>-0.539879</td>\n",
       "      <td>0.708160</td>\n",
       "      <td>0.842225</td>\n",
       "    </tr>\n",
       "  </tbody>\n",
       "</table>\n",
       "</div>"
      ],
      "text/plain": [
       "             1         2         3         4         5\n",
       "G1 1  1.672622  0.099149  1.397996 -0.271248  0.613204\n",
       "   2 -0.267317 -0.549309  0.132708 -0.476142  1.308473\n",
       "   3  0.195013  0.400210 -0.337632  1.256472 -0.731970\n",
       "G2 1  0.660232 -0.350872 -0.939433 -0.489337 -0.804591\n",
       "   2 -0.212698 -0.339140  0.312170  0.565153 -0.147420\n",
       "   3 -0.025905  0.289094 -0.539879  0.708160  0.842225"
      ]
     },
     "execution_count": 32,
     "metadata": {},
     "output_type": "execute_result"
    }
   ],
   "source": [
    "df"
   ]
  },
  {
   "cell_type": "code",
   "execution_count": 33,
   "metadata": {},
   "outputs": [
    {
     "data": {
      "text/html": [
       "<div>\n",
       "<style>\n",
       "    .dataframe thead tr:only-child th {\n",
       "        text-align: right;\n",
       "    }\n",
       "\n",
       "    .dataframe thead th {\n",
       "        text-align: left;\n",
       "    }\n",
       "\n",
       "    .dataframe tbody tr th {\n",
       "        vertical-align: top;\n",
       "    }\n",
       "</style>\n",
       "<table border=\"1\" class=\"dataframe\">\n",
       "  <thead>\n",
       "    <tr style=\"text-align: right;\">\n",
       "      <th></th>\n",
       "      <th>1</th>\n",
       "      <th>2</th>\n",
       "      <th>3</th>\n",
       "      <th>4</th>\n",
       "      <th>5</th>\n",
       "    </tr>\n",
       "  </thead>\n",
       "  <tbody>\n",
       "    <tr>\n",
       "      <th>G1</th>\n",
       "      <td>1.672622</td>\n",
       "      <td>0.099149</td>\n",
       "      <td>1.397996</td>\n",
       "      <td>-0.271248</td>\n",
       "      <td>0.613204</td>\n",
       "    </tr>\n",
       "    <tr>\n",
       "      <th>G2</th>\n",
       "      <td>0.660232</td>\n",
       "      <td>-0.350872</td>\n",
       "      <td>-0.939433</td>\n",
       "      <td>-0.489337</td>\n",
       "      <td>-0.804591</td>\n",
       "    </tr>\n",
       "  </tbody>\n",
       "</table>\n",
       "</div>"
      ],
      "text/plain": [
       "           1         2         3         4         5\n",
       "G1  1.672622  0.099149  1.397996 -0.271248  0.613204\n",
       "G2  0.660232 -0.350872 -0.939433 -0.489337 -0.804591"
      ]
     },
     "execution_count": 33,
     "metadata": {},
     "output_type": "execute_result"
    }
   ],
   "source": [
    "df.xs('1',level=1)"
   ]
  },
  {
   "cell_type": "code",
   "execution_count": 34,
   "metadata": {},
   "outputs": [
    {
     "data": {
      "text/html": [
       "<div>\n",
       "<style>\n",
       "    .dataframe thead tr:only-child th {\n",
       "        text-align: right;\n",
       "    }\n",
       "\n",
       "    .dataframe thead th {\n",
       "        text-align: left;\n",
       "    }\n",
       "\n",
       "    .dataframe tbody tr th {\n",
       "        vertical-align: top;\n",
       "    }\n",
       "</style>\n",
       "<table border=\"1\" class=\"dataframe\">\n",
       "  <thead>\n",
       "    <tr style=\"text-align: right;\">\n",
       "      <th></th>\n",
       "      <th></th>\n",
       "      <th>1</th>\n",
       "      <th>2</th>\n",
       "      <th>3</th>\n",
       "      <th>4</th>\n",
       "      <th>5</th>\n",
       "    </tr>\n",
       "  </thead>\n",
       "  <tbody>\n",
       "    <tr>\n",
       "      <th rowspan=\"3\" valign=\"top\">G1</th>\n",
       "      <th>1</th>\n",
       "      <td>1.672622</td>\n",
       "      <td>0.099149</td>\n",
       "      <td>1.397996</td>\n",
       "      <td>-0.271248</td>\n",
       "      <td>0.613204</td>\n",
       "    </tr>\n",
       "    <tr>\n",
       "      <th>2</th>\n",
       "      <td>-0.267317</td>\n",
       "      <td>-0.549309</td>\n",
       "      <td>0.132708</td>\n",
       "      <td>-0.476142</td>\n",
       "      <td>1.308473</td>\n",
       "    </tr>\n",
       "    <tr>\n",
       "      <th>3</th>\n",
       "      <td>0.195013</td>\n",
       "      <td>0.400210</td>\n",
       "      <td>-0.337632</td>\n",
       "      <td>1.256472</td>\n",
       "      <td>-0.731970</td>\n",
       "    </tr>\n",
       "    <tr>\n",
       "      <th rowspan=\"3\" valign=\"top\">G2</th>\n",
       "      <th>1</th>\n",
       "      <td>0.660232</td>\n",
       "      <td>-0.350872</td>\n",
       "      <td>-0.939433</td>\n",
       "      <td>-0.489337</td>\n",
       "      <td>-0.804591</td>\n",
       "    </tr>\n",
       "    <tr>\n",
       "      <th>2</th>\n",
       "      <td>-0.212698</td>\n",
       "      <td>-0.339140</td>\n",
       "      <td>0.312170</td>\n",
       "      <td>0.565153</td>\n",
       "      <td>-0.147420</td>\n",
       "    </tr>\n",
       "    <tr>\n",
       "      <th>3</th>\n",
       "      <td>-0.025905</td>\n",
       "      <td>0.289094</td>\n",
       "      <td>-0.539879</td>\n",
       "      <td>0.708160</td>\n",
       "      <td>0.842225</td>\n",
       "    </tr>\n",
       "  </tbody>\n",
       "</table>\n",
       "</div>"
      ],
      "text/plain": [
       "             1         2         3         4         5\n",
       "G1 1  1.672622  0.099149  1.397996 -0.271248  0.613204\n",
       "   2 -0.267317 -0.549309  0.132708 -0.476142  1.308473\n",
       "   3  0.195013  0.400210 -0.337632  1.256472 -0.731970\n",
       "G2 1  0.660232 -0.350872 -0.939433 -0.489337 -0.804591\n",
       "   2 -0.212698 -0.339140  0.312170  0.565153 -0.147420\n",
       "   3 -0.025905  0.289094 -0.539879  0.708160  0.842225"
      ]
     },
     "execution_count": 34,
     "metadata": {},
     "output_type": "execute_result"
    }
   ],
   "source": [
    "df.dropna()"
   ]
  },
  {
   "cell_type": "code",
   "execution_count": 35,
   "metadata": {},
   "outputs": [
    {
     "data": {
      "text/plain": [
       "G1  1    0.702345\n",
       "    2    0.029683\n",
       "    3    0.156419\n",
       "G2  1   -0.384800\n",
       "    2    0.035613\n",
       "    3    0.254739\n",
       "dtype: float64"
      ]
     },
     "execution_count": 35,
     "metadata": {},
     "output_type": "execute_result"
    }
   ],
   "source": [
    "df.mean(axis=1)"
   ]
  },
  {
   "cell_type": "code",
   "execution_count": 36,
   "metadata": {},
   "outputs": [
    {
     "data": {
      "text/html": [
       "<div>\n",
       "<style>\n",
       "    .dataframe thead tr:only-child th {\n",
       "        text-align: right;\n",
       "    }\n",
       "\n",
       "    .dataframe thead th {\n",
       "        text-align: left;\n",
       "    }\n",
       "\n",
       "    .dataframe tbody tr th {\n",
       "        vertical-align: top;\n",
       "    }\n",
       "</style>\n",
       "<table border=\"1\" class=\"dataframe\">\n",
       "  <thead>\n",
       "    <tr style=\"text-align: right;\">\n",
       "      <th></th>\n",
       "      <th></th>\n",
       "      <th>1</th>\n",
       "      <th>2</th>\n",
       "      <th>3</th>\n",
       "      <th>4</th>\n",
       "      <th>5</th>\n",
       "    </tr>\n",
       "  </thead>\n",
       "  <tbody>\n",
       "    <tr>\n",
       "      <th rowspan=\"3\" valign=\"top\">G1</th>\n",
       "      <th>1</th>\n",
       "      <td>1.672622</td>\n",
       "      <td>0.099149</td>\n",
       "      <td>1.397996</td>\n",
       "      <td>-0.271248</td>\n",
       "      <td>0.613204</td>\n",
       "    </tr>\n",
       "    <tr>\n",
       "      <th>2</th>\n",
       "      <td>-0.267317</td>\n",
       "      <td>-0.549309</td>\n",
       "      <td>0.132708</td>\n",
       "      <td>-0.476142</td>\n",
       "      <td>1.308473</td>\n",
       "    </tr>\n",
       "    <tr>\n",
       "      <th>3</th>\n",
       "      <td>0.195013</td>\n",
       "      <td>0.400210</td>\n",
       "      <td>-0.337632</td>\n",
       "      <td>1.256472</td>\n",
       "      <td>-0.731970</td>\n",
       "    </tr>\n",
       "    <tr>\n",
       "      <th rowspan=\"3\" valign=\"top\">G2</th>\n",
       "      <th>1</th>\n",
       "      <td>0.660232</td>\n",
       "      <td>-0.350872</td>\n",
       "      <td>-0.939433</td>\n",
       "      <td>-0.489337</td>\n",
       "      <td>-0.804591</td>\n",
       "    </tr>\n",
       "    <tr>\n",
       "      <th>2</th>\n",
       "      <td>-0.212698</td>\n",
       "      <td>-0.339140</td>\n",
       "      <td>0.312170</td>\n",
       "      <td>0.565153</td>\n",
       "      <td>-0.147420</td>\n",
       "    </tr>\n",
       "    <tr>\n",
       "      <th>3</th>\n",
       "      <td>-0.025905</td>\n",
       "      <td>0.289094</td>\n",
       "      <td>-0.539879</td>\n",
       "      <td>0.708160</td>\n",
       "      <td>0.842225</td>\n",
       "    </tr>\n",
       "  </tbody>\n",
       "</table>\n",
       "</div>"
      ],
      "text/plain": [
       "             1         2         3         4         5\n",
       "G1 1  1.672622  0.099149  1.397996 -0.271248  0.613204\n",
       "   2 -0.267317 -0.549309  0.132708 -0.476142  1.308473\n",
       "   3  0.195013  0.400210 -0.337632  1.256472 -0.731970\n",
       "G2 1  0.660232 -0.350872 -0.939433 -0.489337 -0.804591\n",
       "   2 -0.212698 -0.339140  0.312170  0.565153 -0.147420\n",
       "   3 -0.025905  0.289094 -0.539879  0.708160  0.842225"
      ]
     },
     "execution_count": 36,
     "metadata": {},
     "output_type": "execute_result"
    }
   ],
   "source": [
    "df"
   ]
  },
  {
   "cell_type": "code",
   "execution_count": 37,
   "metadata": {},
   "outputs": [
    {
     "data": {
      "text/html": [
       "<div>\n",
       "<style>\n",
       "    .dataframe thead tr:only-child th {\n",
       "        text-align: right;\n",
       "    }\n",
       "\n",
       "    .dataframe thead th {\n",
       "        text-align: left;\n",
       "    }\n",
       "\n",
       "    .dataframe tbody tr th {\n",
       "        vertical-align: top;\n",
       "    }\n",
       "</style>\n",
       "<table border=\"1\" class=\"dataframe\">\n",
       "  <thead>\n",
       "    <tr>\n",
       "      <th></th>\n",
       "      <th colspan=\"3\" halign=\"left\">G1</th>\n",
       "      <th colspan=\"3\" halign=\"left\">G2</th>\n",
       "    </tr>\n",
       "    <tr>\n",
       "      <th></th>\n",
       "      <th>1</th>\n",
       "      <th>2</th>\n",
       "      <th>3</th>\n",
       "      <th>1</th>\n",
       "      <th>2</th>\n",
       "      <th>3</th>\n",
       "    </tr>\n",
       "  </thead>\n",
       "  <tbody>\n",
       "    <tr>\n",
       "      <th>1</th>\n",
       "      <td>1.672622</td>\n",
       "      <td>-0.267317</td>\n",
       "      <td>0.195013</td>\n",
       "      <td>0.660232</td>\n",
       "      <td>-0.212698</td>\n",
       "      <td>-0.025905</td>\n",
       "    </tr>\n",
       "    <tr>\n",
       "      <th>2</th>\n",
       "      <td>0.099149</td>\n",
       "      <td>-0.549309</td>\n",
       "      <td>0.400210</td>\n",
       "      <td>-0.350872</td>\n",
       "      <td>-0.339140</td>\n",
       "      <td>0.289094</td>\n",
       "    </tr>\n",
       "    <tr>\n",
       "      <th>3</th>\n",
       "      <td>1.397996</td>\n",
       "      <td>0.132708</td>\n",
       "      <td>-0.337632</td>\n",
       "      <td>-0.939433</td>\n",
       "      <td>0.312170</td>\n",
       "      <td>-0.539879</td>\n",
       "    </tr>\n",
       "    <tr>\n",
       "      <th>4</th>\n",
       "      <td>-0.271248</td>\n",
       "      <td>-0.476142</td>\n",
       "      <td>1.256472</td>\n",
       "      <td>-0.489337</td>\n",
       "      <td>0.565153</td>\n",
       "      <td>0.708160</td>\n",
       "    </tr>\n",
       "    <tr>\n",
       "      <th>5</th>\n",
       "      <td>0.613204</td>\n",
       "      <td>1.308473</td>\n",
       "      <td>-0.731970</td>\n",
       "      <td>-0.804591</td>\n",
       "      <td>-0.147420</td>\n",
       "      <td>0.842225</td>\n",
       "    </tr>\n",
       "  </tbody>\n",
       "</table>\n",
       "</div>"
      ],
      "text/plain": [
       "         G1                            G2                    \n",
       "          1         2         3         1         2         3\n",
       "1  1.672622 -0.267317  0.195013  0.660232 -0.212698 -0.025905\n",
       "2  0.099149 -0.549309  0.400210 -0.350872 -0.339140  0.289094\n",
       "3  1.397996  0.132708 -0.337632 -0.939433  0.312170 -0.539879\n",
       "4 -0.271248 -0.476142  1.256472 -0.489337  0.565153  0.708160\n",
       "5  0.613204  1.308473 -0.731970 -0.804591 -0.147420  0.842225"
      ]
     },
     "execution_count": 37,
     "metadata": {},
     "output_type": "execute_result"
    }
   ],
   "source": [
    "df.transpose()"
   ]
  },
  {
   "cell_type": "code",
   "execution_count": 38,
   "metadata": {},
   "outputs": [
    {
     "data": {
      "text/html": [
       "<div>\n",
       "<style>\n",
       "    .dataframe thead tr:only-child th {\n",
       "        text-align: right;\n",
       "    }\n",
       "\n",
       "    .dataframe thead th {\n",
       "        text-align: left;\n",
       "    }\n",
       "\n",
       "    .dataframe tbody tr th {\n",
       "        vertical-align: top;\n",
       "    }\n",
       "</style>\n",
       "<table border=\"1\" class=\"dataframe\">\n",
       "  <thead>\n",
       "    <tr style=\"text-align: right;\">\n",
       "      <th></th>\n",
       "      <th></th>\n",
       "      <th>1</th>\n",
       "      <th>2</th>\n",
       "      <th>3</th>\n",
       "      <th>4</th>\n",
       "      <th>5</th>\n",
       "    </tr>\n",
       "  </thead>\n",
       "  <tbody>\n",
       "    <tr>\n",
       "      <th rowspan=\"3\" valign=\"top\">G1</th>\n",
       "      <th>1</th>\n",
       "      <td>1.672622</td>\n",
       "      <td>0.099149</td>\n",
       "      <td>1.397996</td>\n",
       "      <td>-0.271248</td>\n",
       "      <td>0.613204</td>\n",
       "    </tr>\n",
       "    <tr>\n",
       "      <th>2</th>\n",
       "      <td>-0.267317</td>\n",
       "      <td>-0.549309</td>\n",
       "      <td>0.132708</td>\n",
       "      <td>-0.476142</td>\n",
       "      <td>1.308473</td>\n",
       "    </tr>\n",
       "    <tr>\n",
       "      <th>3</th>\n",
       "      <td>0.195013</td>\n",
       "      <td>0.400210</td>\n",
       "      <td>-0.337632</td>\n",
       "      <td>1.256472</td>\n",
       "      <td>-0.731970</td>\n",
       "    </tr>\n",
       "    <tr>\n",
       "      <th rowspan=\"3\" valign=\"top\">G2</th>\n",
       "      <th>1</th>\n",
       "      <td>0.660232</td>\n",
       "      <td>-0.350872</td>\n",
       "      <td>-0.939433</td>\n",
       "      <td>-0.489337</td>\n",
       "      <td>-0.804591</td>\n",
       "    </tr>\n",
       "    <tr>\n",
       "      <th>2</th>\n",
       "      <td>-0.212698</td>\n",
       "      <td>-0.339140</td>\n",
       "      <td>0.312170</td>\n",
       "      <td>0.565153</td>\n",
       "      <td>-0.147420</td>\n",
       "    </tr>\n",
       "    <tr>\n",
       "      <th>3</th>\n",
       "      <td>-0.025905</td>\n",
       "      <td>0.289094</td>\n",
       "      <td>-0.539879</td>\n",
       "      <td>0.708160</td>\n",
       "      <td>0.842225</td>\n",
       "    </tr>\n",
       "  </tbody>\n",
       "</table>\n",
       "</div>"
      ],
      "text/plain": [
       "             1         2         3         4         5\n",
       "G1 1  1.672622  0.099149  1.397996 -0.271248  0.613204\n",
       "   2 -0.267317 -0.549309  0.132708 -0.476142  1.308473\n",
       "   3  0.195013  0.400210 -0.337632  1.256472 -0.731970\n",
       "G2 1  0.660232 -0.350872 -0.939433 -0.489337 -0.804591\n",
       "   2 -0.212698 -0.339140  0.312170  0.565153 -0.147420\n",
       "   3 -0.025905  0.289094 -0.539879  0.708160  0.842225"
      ]
     },
     "execution_count": 38,
     "metadata": {},
     "output_type": "execute_result"
    }
   ],
   "source": [
    "df"
   ]
  },
  {
   "cell_type": "code",
   "execution_count": 42,
   "metadata": {},
   "outputs": [
    {
     "data": {
      "text/html": [
       "<div>\n",
       "<style>\n",
       "    .dataframe thead tr:only-child th {\n",
       "        text-align: right;\n",
       "    }\n",
       "\n",
       "    .dataframe thead th {\n",
       "        text-align: left;\n",
       "    }\n",
       "\n",
       "    .dataframe tbody tr th {\n",
       "        vertical-align: top;\n",
       "    }\n",
       "</style>\n",
       "<table border=\"1\" class=\"dataframe\">\n",
       "  <thead>\n",
       "    <tr style=\"text-align: right;\">\n",
       "      <th></th>\n",
       "      <th></th>\n",
       "      <th>1</th>\n",
       "      <th>2</th>\n",
       "      <th>3</th>\n",
       "      <th>4</th>\n",
       "      <th>5</th>\n",
       "    </tr>\n",
       "  </thead>\n",
       "  <tbody>\n",
       "    <tr>\n",
       "      <th rowspan=\"3\" valign=\"top\">G1</th>\n",
       "      <th>1</th>\n",
       "      <td>False</td>\n",
       "      <td>False</td>\n",
       "      <td>False</td>\n",
       "      <td>False</td>\n",
       "      <td>False</td>\n",
       "    </tr>\n",
       "    <tr>\n",
       "      <th>2</th>\n",
       "      <td>False</td>\n",
       "      <td>False</td>\n",
       "      <td>False</td>\n",
       "      <td>False</td>\n",
       "      <td>False</td>\n",
       "    </tr>\n",
       "    <tr>\n",
       "      <th>3</th>\n",
       "      <td>False</td>\n",
       "      <td>False</td>\n",
       "      <td>False</td>\n",
       "      <td>False</td>\n",
       "      <td>False</td>\n",
       "    </tr>\n",
       "    <tr>\n",
       "      <th rowspan=\"3\" valign=\"top\">G2</th>\n",
       "      <th>1</th>\n",
       "      <td>False</td>\n",
       "      <td>False</td>\n",
       "      <td>False</td>\n",
       "      <td>False</td>\n",
       "      <td>False</td>\n",
       "    </tr>\n",
       "    <tr>\n",
       "      <th>2</th>\n",
       "      <td>False</td>\n",
       "      <td>False</td>\n",
       "      <td>False</td>\n",
       "      <td>False</td>\n",
       "      <td>False</td>\n",
       "    </tr>\n",
       "    <tr>\n",
       "      <th>3</th>\n",
       "      <td>False</td>\n",
       "      <td>False</td>\n",
       "      <td>False</td>\n",
       "      <td>False</td>\n",
       "      <td>False</td>\n",
       "    </tr>\n",
       "  </tbody>\n",
       "</table>\n",
       "</div>"
      ],
      "text/plain": [
       "          1      2      3      4      5\n",
       "G1 1  False  False  False  False  False\n",
       "   2  False  False  False  False  False\n",
       "   3  False  False  False  False  False\n",
       "G2 1  False  False  False  False  False\n",
       "   2  False  False  False  False  False\n",
       "   3  False  False  False  False  False"
      ]
     },
     "execution_count": 42,
     "metadata": {},
     "output_type": "execute_result"
    }
   ],
   "source": [
    "df.isnull()"
   ]
  },
  {
   "cell_type": "code",
   "execution_count": 43,
   "metadata": {},
   "outputs": [
    {
     "data": {
      "text/plain": [
       "u'/Users/mayankaggarwal'"
      ]
     },
     "execution_count": 43,
     "metadata": {},
     "output_type": "execute_result"
    }
   ],
   "source": [
    "pwd"
   ]
  },
  {
   "cell_type": "code",
   "execution_count": 44,
   "metadata": {},
   "outputs": [
    {
     "data": {
      "text/html": [
       "<div>\n",
       "<style>\n",
       "    .dataframe thead tr:only-child th {\n",
       "        text-align: right;\n",
       "    }\n",
       "\n",
       "    .dataframe thead th {\n",
       "        text-align: left;\n",
       "    }\n",
       "\n",
       "    .dataframe tbody tr th {\n",
       "        vertical-align: top;\n",
       "    }\n",
       "</style>\n",
       "<table border=\"1\" class=\"dataframe\">\n",
       "  <thead>\n",
       "    <tr style=\"text-align: right;\">\n",
       "      <th></th>\n",
       "      <th>1</th>\n",
       "      <th>Eldon Base for stackable storage shelf, platinum</th>\n",
       "      <th>Muhammed MacIntyre</th>\n",
       "      <th>3</th>\n",
       "      <th>-213.25</th>\n",
       "      <th>38.94</th>\n",
       "      <th>35</th>\n",
       "      <th>Nunavut</th>\n",
       "      <th>Storage &amp; Organization</th>\n",
       "      <th>0.8</th>\n",
       "    </tr>\n",
       "  </thead>\n",
       "  <tbody>\n",
       "    <tr>\n",
       "      <th>0</th>\n",
       "      <td>2</td>\n",
       "      <td>1.7 Cubic Foot Compact \"Cube\" Office Refrigera...</td>\n",
       "      <td>Barry French</td>\n",
       "      <td>293</td>\n",
       "      <td>457.81</td>\n",
       "      <td>208.16</td>\n",
       "      <td>68.02</td>\n",
       "      <td>Nunavut</td>\n",
       "      <td>Appliances</td>\n",
       "      <td>0.58</td>\n",
       "    </tr>\n",
       "    <tr>\n",
       "      <th>1</th>\n",
       "      <td>3</td>\n",
       "      <td>Cardinal Slant-D� Ring Binder, Heavy Gauge Vinyl</td>\n",
       "      <td>Barry French</td>\n",
       "      <td>293</td>\n",
       "      <td>46.71</td>\n",
       "      <td>8.69</td>\n",
       "      <td>2.99</td>\n",
       "      <td>Nunavut</td>\n",
       "      <td>Binders and Binder Accessories</td>\n",
       "      <td>0.39</td>\n",
       "    </tr>\n",
       "    <tr>\n",
       "      <th>2</th>\n",
       "      <td>4</td>\n",
       "      <td>R380</td>\n",
       "      <td>Clay Rozendal</td>\n",
       "      <td>483</td>\n",
       "      <td>1198.97</td>\n",
       "      <td>195.99</td>\n",
       "      <td>3.99</td>\n",
       "      <td>Nunavut</td>\n",
       "      <td>Telephones and Communication</td>\n",
       "      <td>0.58</td>\n",
       "    </tr>\n",
       "    <tr>\n",
       "      <th>3</th>\n",
       "      <td>5</td>\n",
       "      <td>Holmes HEPA Air Purifier</td>\n",
       "      <td>Carlos Soltero</td>\n",
       "      <td>515</td>\n",
       "      <td>30.94</td>\n",
       "      <td>21.78</td>\n",
       "      <td>5.94</td>\n",
       "      <td>Nunavut</td>\n",
       "      <td>Appliances</td>\n",
       "      <td>0.50</td>\n",
       "    </tr>\n",
       "    <tr>\n",
       "      <th>4</th>\n",
       "      <td>6</td>\n",
       "      <td>G.E. Longer-Life Indoor Recessed Floodlight Bulbs</td>\n",
       "      <td>Carlos Soltero</td>\n",
       "      <td>515</td>\n",
       "      <td>4.43</td>\n",
       "      <td>6.64</td>\n",
       "      <td>4.95</td>\n",
       "      <td>Nunavut</td>\n",
       "      <td>Office Furnishings</td>\n",
       "      <td>0.37</td>\n",
       "    </tr>\n",
       "    <tr>\n",
       "      <th>5</th>\n",
       "      <td>7</td>\n",
       "      <td>Angle-D Binders with Locking Rings, Label Holders</td>\n",
       "      <td>Carl Jackson</td>\n",
       "      <td>613</td>\n",
       "      <td>-54.04</td>\n",
       "      <td>7.30</td>\n",
       "      <td>7.72</td>\n",
       "      <td>Nunavut</td>\n",
       "      <td>Binders and Binder Accessories</td>\n",
       "      <td>0.38</td>\n",
       "    </tr>\n",
       "    <tr>\n",
       "      <th>6</th>\n",
       "      <td>8</td>\n",
       "      <td>SAFCO Mobile Desk Side File, Wire Frame</td>\n",
       "      <td>Carl Jackson</td>\n",
       "      <td>613</td>\n",
       "      <td>127.70</td>\n",
       "      <td>42.76</td>\n",
       "      <td>6.22</td>\n",
       "      <td>Nunavut</td>\n",
       "      <td>Storage &amp; Organization</td>\n",
       "      <td>NaN</td>\n",
       "    </tr>\n",
       "    <tr>\n",
       "      <th>7</th>\n",
       "      <td>9</td>\n",
       "      <td>SAFCO Commercial Wire Shelving, Black</td>\n",
       "      <td>Monica Federle</td>\n",
       "      <td>643</td>\n",
       "      <td>-695.26</td>\n",
       "      <td>138.14</td>\n",
       "      <td>35.00</td>\n",
       "      <td>Nunavut</td>\n",
       "      <td>Storage &amp; Organization</td>\n",
       "      <td>NaN</td>\n",
       "    </tr>\n",
       "    <tr>\n",
       "      <th>8</th>\n",
       "      <td>10</td>\n",
       "      <td>Xerox 198</td>\n",
       "      <td>Dorothy Badders</td>\n",
       "      <td>678</td>\n",
       "      <td>-226.36</td>\n",
       "      <td>4.98</td>\n",
       "      <td>8.33</td>\n",
       "      <td>Nunavut</td>\n",
       "      <td>Paper</td>\n",
       "      <td>0.38</td>\n",
       "    </tr>\n",
       "  </tbody>\n",
       "</table>\n",
       "</div>"
      ],
      "text/plain": [
       "    1   Eldon Base for stackable storage shelf, platinum Muhammed MacIntyre  \\\n",
       "0   2  1.7 Cubic Foot Compact \"Cube\" Office Refrigera...       Barry French   \n",
       "1   3   Cardinal Slant-D� Ring Binder, Heavy Gauge Vinyl       Barry French   \n",
       "2   4                                               R380      Clay Rozendal   \n",
       "3   5                           Holmes HEPA Air Purifier     Carlos Soltero   \n",
       "4   6  G.E. Longer-Life Indoor Recessed Floodlight Bulbs     Carlos Soltero   \n",
       "5   7  Angle-D Binders with Locking Rings, Label Holders       Carl Jackson   \n",
       "6   8            SAFCO Mobile Desk Side File, Wire Frame       Carl Jackson   \n",
       "7   9              SAFCO Commercial Wire Shelving, Black     Monica Federle   \n",
       "8  10                                          Xerox 198    Dorothy Badders   \n",
       "\n",
       "     3  -213.25   38.94     35  Nunavut          Storage & Organization   0.8  \n",
       "0  293   457.81  208.16  68.02  Nunavut                      Appliances  0.58  \n",
       "1  293    46.71    8.69   2.99  Nunavut  Binders and Binder Accessories  0.39  \n",
       "2  483  1198.97  195.99   3.99  Nunavut    Telephones and Communication  0.58  \n",
       "3  515    30.94   21.78   5.94  Nunavut                      Appliances  0.50  \n",
       "4  515     4.43    6.64   4.95  Nunavut              Office Furnishings  0.37  \n",
       "5  613   -54.04    7.30   7.72  Nunavut  Binders and Binder Accessories  0.38  \n",
       "6  613   127.70   42.76   6.22  Nunavut          Storage & Organization   NaN  \n",
       "7  643  -695.26  138.14  35.00  Nunavut          Storage & Organization   NaN  \n",
       "8  678  -226.36    4.98   8.33  Nunavut                           Paper  0.38  "
      ]
     },
     "execution_count": 44,
     "metadata": {},
     "output_type": "execute_result"
    }
   ],
   "source": [
    "pd.read_csv('sample.csv')"
   ]
  },
  {
   "cell_type": "code",
   "execution_count": 47,
   "metadata": {},
   "outputs": [
    {
     "data": {
      "text/plain": [
       "[     Rows  Size(kb) Format One Click Download\n",
       " 0      10         2    csv           Download\n",
       " 1     100        11    csv           Download\n",
       " 2    1000       119    csv           Download\n",
       " 3    5000       556    csv           Download\n",
       " 4   10000      1109    csv           Download\n",
       " 5   50000      5300    csv           Download\n",
       " 6  100000     10600    csv           Download\n",
       " 7  500000     53000    csv           Download,                   0      1\n",
       " 0  Total Downloaded  10569]"
      ]
     },
     "execution_count": 47,
     "metadata": {},
     "output_type": "execute_result"
    }
   ],
   "source": [
    "pd.read_html('http://www.sample-videos.com/download-sample-csv.php')"
   ]
  },
  {
   "cell_type": "code",
   "execution_count": 48,
   "metadata": {
    "collapsed": true
   },
   "outputs": [],
   "source": [
    "data=pd.read_html('http://www.sample-videos.com/download-sample-csv.php')"
   ]
  },
  {
   "cell_type": "code",
   "execution_count": 49,
   "metadata": {},
   "outputs": [
    {
     "data": {
      "text/plain": [
       "list"
      ]
     },
     "execution_count": 49,
     "metadata": {},
     "output_type": "execute_result"
    }
   ],
   "source": [
    "type(data)"
   ]
  },
  {
   "cell_type": "code",
   "execution_count": 50,
   "metadata": {},
   "outputs": [
    {
     "data": {
      "text/html": [
       "<div>\n",
       "<style>\n",
       "    .dataframe thead tr:only-child th {\n",
       "        text-align: right;\n",
       "    }\n",
       "\n",
       "    .dataframe thead th {\n",
       "        text-align: left;\n",
       "    }\n",
       "\n",
       "    .dataframe tbody tr th {\n",
       "        vertical-align: top;\n",
       "    }\n",
       "</style>\n",
       "<table border=\"1\" class=\"dataframe\">\n",
       "  <thead>\n",
       "    <tr style=\"text-align: right;\">\n",
       "      <th></th>\n",
       "      <th>Rows</th>\n",
       "      <th>Size(kb)</th>\n",
       "      <th>Format</th>\n",
       "      <th>One Click Download</th>\n",
       "    </tr>\n",
       "  </thead>\n",
       "  <tbody>\n",
       "    <tr>\n",
       "      <th>0</th>\n",
       "      <td>10</td>\n",
       "      <td>2</td>\n",
       "      <td>csv</td>\n",
       "      <td>Download</td>\n",
       "    </tr>\n",
       "    <tr>\n",
       "      <th>1</th>\n",
       "      <td>100</td>\n",
       "      <td>11</td>\n",
       "      <td>csv</td>\n",
       "      <td>Download</td>\n",
       "    </tr>\n",
       "    <tr>\n",
       "      <th>2</th>\n",
       "      <td>1000</td>\n",
       "      <td>119</td>\n",
       "      <td>csv</td>\n",
       "      <td>Download</td>\n",
       "    </tr>\n",
       "    <tr>\n",
       "      <th>3</th>\n",
       "      <td>5000</td>\n",
       "      <td>556</td>\n",
       "      <td>csv</td>\n",
       "      <td>Download</td>\n",
       "    </tr>\n",
       "    <tr>\n",
       "      <th>4</th>\n",
       "      <td>10000</td>\n",
       "      <td>1109</td>\n",
       "      <td>csv</td>\n",
       "      <td>Download</td>\n",
       "    </tr>\n",
       "    <tr>\n",
       "      <th>5</th>\n",
       "      <td>50000</td>\n",
       "      <td>5300</td>\n",
       "      <td>csv</td>\n",
       "      <td>Download</td>\n",
       "    </tr>\n",
       "    <tr>\n",
       "      <th>6</th>\n",
       "      <td>100000</td>\n",
       "      <td>10600</td>\n",
       "      <td>csv</td>\n",
       "      <td>Download</td>\n",
       "    </tr>\n",
       "    <tr>\n",
       "      <th>7</th>\n",
       "      <td>500000</td>\n",
       "      <td>53000</td>\n",
       "      <td>csv</td>\n",
       "      <td>Download</td>\n",
       "    </tr>\n",
       "  </tbody>\n",
       "</table>\n",
       "</div>"
      ],
      "text/plain": [
       "     Rows  Size(kb) Format One Click Download\n",
       "0      10         2    csv           Download\n",
       "1     100        11    csv           Download\n",
       "2    1000       119    csv           Download\n",
       "3    5000       556    csv           Download\n",
       "4   10000      1109    csv           Download\n",
       "5   50000      5300    csv           Download\n",
       "6  100000     10600    csv           Download\n",
       "7  500000     53000    csv           Download"
      ]
     },
     "execution_count": 50,
     "metadata": {},
     "output_type": "execute_result"
    }
   ],
   "source": [
    "data[0]"
   ]
  },
  {
   "cell_type": "code",
   "execution_count": 51,
   "metadata": {},
   "outputs": [
    {
     "data": {
      "text/html": [
       "<div>\n",
       "<style>\n",
       "    .dataframe thead tr:only-child th {\n",
       "        text-align: right;\n",
       "    }\n",
       "\n",
       "    .dataframe thead th {\n",
       "        text-align: left;\n",
       "    }\n",
       "\n",
       "    .dataframe tbody tr th {\n",
       "        vertical-align: top;\n",
       "    }\n",
       "</style>\n",
       "<table border=\"1\" class=\"dataframe\">\n",
       "  <thead>\n",
       "    <tr style=\"text-align: right;\">\n",
       "      <th></th>\n",
       "      <th>0</th>\n",
       "      <th>1</th>\n",
       "    </tr>\n",
       "  </thead>\n",
       "  <tbody>\n",
       "    <tr>\n",
       "      <th>0</th>\n",
       "      <td>Total Downloaded</td>\n",
       "      <td>10569</td>\n",
       "    </tr>\n",
       "  </tbody>\n",
       "</table>\n",
       "</div>"
      ],
      "text/plain": [
       "                  0      1\n",
       "0  Total Downloaded  10569"
      ]
     },
     "execution_count": 51,
     "metadata": {},
     "output_type": "execute_result"
    }
   ],
   "source": [
    "data[1]"
   ]
  },
  {
   "cell_type": "code",
   "execution_count": 53,
   "metadata": {},
   "outputs": [
    {
     "data": {
      "text/plain": [
       "2"
      ]
     },
     "execution_count": 53,
     "metadata": {},
     "output_type": "execute_result"
    }
   ],
   "source": [
    "len(data)"
   ]
  },
  {
   "cell_type": "code",
   "execution_count": 55,
   "metadata": {},
   "outputs": [
    {
     "data": {
      "text/html": [
       "<div>\n",
       "<style>\n",
       "    .dataframe thead tr:only-child th {\n",
       "        text-align: right;\n",
       "    }\n",
       "\n",
       "    .dataframe thead th {\n",
       "        text-align: left;\n",
       "    }\n",
       "\n",
       "    .dataframe tbody tr th {\n",
       "        vertical-align: top;\n",
       "    }\n",
       "</style>\n",
       "<table border=\"1\" class=\"dataframe\">\n",
       "  <thead>\n",
       "    <tr style=\"text-align: right;\">\n",
       "      <th></th>\n",
       "      <th>0</th>\n",
       "      <th>1</th>\n",
       "    </tr>\n",
       "  </thead>\n",
       "  <tbody>\n",
       "    <tr>\n",
       "      <th>0</th>\n",
       "      <td>Total Downloaded</td>\n",
       "      <td>10569</td>\n",
       "    </tr>\n",
       "  </tbody>\n",
       "</table>\n",
       "</div>"
      ],
      "text/plain": [
       "                  0      1\n",
       "0  Total Downloaded  10569"
      ]
     },
     "execution_count": 55,
     "metadata": {},
     "output_type": "execute_result"
    }
   ],
   "source": [
    "data[1]"
   ]
  },
  {
   "cell_type": "code",
   "execution_count": 56,
   "metadata": {},
   "outputs": [
    {
     "ename": "AttributeError",
     "evalue": "'list' object has no attribute 'describe'",
     "output_type": "error",
     "traceback": [
      "\u001b[0;31m---------------------------------------------------------------------------\u001b[0m",
      "\u001b[0;31mAttributeError\u001b[0m                            Traceback (most recent call last)",
      "\u001b[0;32m<ipython-input-56-efa692752119>\u001b[0m in \u001b[0;36m<module>\u001b[0;34m()\u001b[0m\n\u001b[0;32m----> 1\u001b[0;31m \u001b[0mdata\u001b[0m\u001b[0;34m.\u001b[0m\u001b[0mdescribe\u001b[0m\u001b[0;34m(\u001b[0m\u001b[0;34m)\u001b[0m\u001b[0;34m\u001b[0m\u001b[0m\n\u001b[0m",
      "\u001b[0;31mAttributeError\u001b[0m: 'list' object has no attribute 'describe'"
     ]
    }
   ],
   "source": [
    "data.describe()"
   ]
  },
  {
   "cell_type": "code",
   "execution_count": 57,
   "metadata": {},
   "outputs": [
    {
     "data": {
      "text/html": [
       "<div>\n",
       "<style>\n",
       "    .dataframe thead tr:only-child th {\n",
       "        text-align: right;\n",
       "    }\n",
       "\n",
       "    .dataframe thead th {\n",
       "        text-align: left;\n",
       "    }\n",
       "\n",
       "    .dataframe tbody tr th {\n",
       "        vertical-align: top;\n",
       "    }\n",
       "</style>\n",
       "<table border=\"1\" class=\"dataframe\">\n",
       "  <thead>\n",
       "    <tr style=\"text-align: right;\">\n",
       "      <th></th>\n",
       "      <th>1</th>\n",
       "      <th>2</th>\n",
       "      <th>3</th>\n",
       "      <th>4</th>\n",
       "      <th>5</th>\n",
       "    </tr>\n",
       "  </thead>\n",
       "  <tbody>\n",
       "    <tr>\n",
       "      <th>count</th>\n",
       "      <td>6.000000</td>\n",
       "      <td>6.000000</td>\n",
       "      <td>6.000000</td>\n",
       "      <td>6.000000</td>\n",
       "      <td>6.000000</td>\n",
       "    </tr>\n",
       "    <tr>\n",
       "      <th>mean</th>\n",
       "      <td>0.336991</td>\n",
       "      <td>-0.075145</td>\n",
       "      <td>0.004322</td>\n",
       "      <td>0.215510</td>\n",
       "      <td>0.179987</td>\n",
       "    </tr>\n",
       "    <tr>\n",
       "      <th>std</th>\n",
       "      <td>0.735879</td>\n",
       "      <td>0.389759</td>\n",
       "      <td>0.819432</td>\n",
       "      <td>0.729477</td>\n",
       "      <td>0.872694</td>\n",
       "    </tr>\n",
       "    <tr>\n",
       "      <th>min</th>\n",
       "      <td>-0.267317</td>\n",
       "      <td>-0.549309</td>\n",
       "      <td>-0.939433</td>\n",
       "      <td>-0.489337</td>\n",
       "      <td>-0.804591</td>\n",
       "    </tr>\n",
       "    <tr>\n",
       "      <th>25%</th>\n",
       "      <td>-0.166000</td>\n",
       "      <td>-0.347939</td>\n",
       "      <td>-0.489317</td>\n",
       "      <td>-0.424919</td>\n",
       "      <td>-0.585832</td>\n",
       "    </tr>\n",
       "    <tr>\n",
       "      <th>50%</th>\n",
       "      <td>0.084554</td>\n",
       "      <td>-0.119996</td>\n",
       "      <td>-0.102462</td>\n",
       "      <td>0.146952</td>\n",
       "      <td>0.232892</td>\n",
       "    </tr>\n",
       "    <tr>\n",
       "      <th>75%</th>\n",
       "      <td>0.543927</td>\n",
       "      <td>0.241608</td>\n",
       "      <td>0.267305</td>\n",
       "      <td>0.672408</td>\n",
       "      <td>0.784970</td>\n",
       "    </tr>\n",
       "    <tr>\n",
       "      <th>max</th>\n",
       "      <td>1.672622</td>\n",
       "      <td>0.400210</td>\n",
       "      <td>1.397996</td>\n",
       "      <td>1.256472</td>\n",
       "      <td>1.308473</td>\n",
       "    </tr>\n",
       "  </tbody>\n",
       "</table>\n",
       "</div>"
      ],
      "text/plain": [
       "              1         2         3         4         5\n",
       "count  6.000000  6.000000  6.000000  6.000000  6.000000\n",
       "mean   0.336991 -0.075145  0.004322  0.215510  0.179987\n",
       "std    0.735879  0.389759  0.819432  0.729477  0.872694\n",
       "min   -0.267317 -0.549309 -0.939433 -0.489337 -0.804591\n",
       "25%   -0.166000 -0.347939 -0.489317 -0.424919 -0.585832\n",
       "50%    0.084554 -0.119996 -0.102462  0.146952  0.232892\n",
       "75%    0.543927  0.241608  0.267305  0.672408  0.784970\n",
       "max    1.672622  0.400210  1.397996  1.256472  1.308473"
      ]
     },
     "execution_count": 57,
     "metadata": {},
     "output_type": "execute_result"
    }
   ],
   "source": [
    "df.describe()"
   ]
  },
  {
   "cell_type": "code",
   "execution_count": null,
   "metadata": {
    "collapsed": true
   },
   "outputs": [],
   "source": []
  }
 ],
 "metadata": {
  "kernelspec": {
   "display_name": "Python 2",
   "language": "python",
   "name": "python2"
  },
  "language_info": {
   "codemirror_mode": {
    "name": "ipython",
    "version": 2
   },
   "file_extension": ".py",
   "mimetype": "text/x-python",
   "name": "python",
   "nbconvert_exporter": "python",
   "pygments_lexer": "ipython2",
   "version": "2.7.13"
  }
 },
 "nbformat": 4,
 "nbformat_minor": 2
}
